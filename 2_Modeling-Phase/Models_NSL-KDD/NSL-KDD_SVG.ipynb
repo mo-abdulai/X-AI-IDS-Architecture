{
 "cells": [
  {
   "cell_type": "markdown",
   "id": "4be222c7",
   "metadata": {},
   "source": [
    "# Implementation of SVM with Gaussian Kernel (RBF)"
   ]
  },
  {
   "cell_type": "markdown",
   "id": "012046e5",
   "metadata": {},
   "source": [
    "## Import Libraries"
   ]
  },
  {
   "cell_type": "code",
   "execution_count": 1,
   "id": "266ecfd7",
   "metadata": {},
   "outputs": [],
   "source": [
    "import pandas as pd\n",
    "import numpy as np\n",
    "from sklearn.model_selection import train_test_split\n",
    "from sklearn.preprocessing import StandardScaler\n",
    "from sklearn.svm import SVC\n",
    "from sklearn.metrics import classification_report, confusion_matrix, accuracy_score\n",
    "import seaborn as sns\n",
    "import matplotlib.pyplot as plt"
   ]
  },
  {
   "cell_type": "markdown",
   "id": "45877ff2",
   "metadata": {},
   "source": [
    "## Load and Prepare the Data"
   ]
  },
  {
   "cell_type": "code",
   "execution_count": 3,
   "id": "639ebf70",
   "metadata": {},
   "outputs": [
    {
     "name": "stdout",
     "output_type": "stream",
     "text": [
      "Train shape: (100778, 42) (100778,)\n",
      "Validation shape: (25195, 42) (25195,)\n",
      "Test shape: (22544, 42) (22544,)\n"
     ]
    }
   ],
   "source": [
    "# Load the dataset\n",
    "df_train = pd.read_csv('../../2_Modeling-Phase/train_and_test_datasets/NSL-KDD/train.csv')\n",
    "df_test = pd.read_csv('../../2_Modeling-Phase/train_and_test_datasets/NSL-KDD/test.csv')\n",
    "\n",
    "# Separate features and target variable\n",
    "X_train = df_train.drop(['binary_attack'], axis=1)\n",
    "y_train = df_train['binary_attack']\n",
    "\n",
    "X_test = df_test.drop(['binary_attack'], axis=1)\n",
    "y_test = df_test['binary_attack']\n",
    "\n",
    "# Split the training data into train/validation sets\n",
    "X_train, X_val, y_train, y_val = train_test_split(X_train, y_train, test_size=0.2, random_state=42)\n",
    "\n",
    "# Verify shapes\n",
    "print(\"Train shape:\", X_train.shape, y_train.shape)\n",
    "print(\"Validation shape:\", X_val.shape, y_val.shape)\n",
    "print(\"Test shape:\", X_test.shape, y_test.shape)"
   ]
  },
  {
   "cell_type": "markdown",
   "id": "5c9fb3a2",
   "metadata": {},
   "source": [
    "## Scale the Data"
   ]
  },
  {
   "cell_type": "code",
   "execution_count": 4,
   "id": "cc3e6e3d",
   "metadata": {},
   "outputs": [],
   "source": [
    "# Standardize features\n",
    "scaler = StandardScaler()\n",
    "\n",
    "# Scale training, validation, and test sets\n",
    "X_train_scaled = scaler.fit_transform(X_train)\n",
    "X_val_scaled = scaler.transform(X_val)\n",
    "X_test_scaled = scaler.transform(X_test)"
   ]
  },
  {
   "cell_type": "markdown",
   "id": "c7c5a07d",
   "metadata": {},
   "source": [
    "## Train the SVM with RBF Kernel"
   ]
  },
  {
   "cell_type": "code",
   "execution_count": 12,
   "id": "c90037ef",
   "metadata": {},
   "outputs": [
    {
     "name": "stdout",
     "output_type": "stream",
     "text": [
      "Validation Accuracy: 0.9965072435006945\n"
     ]
    }
   ],
   "source": [
    "# Train SVM model with RBF kernel\n",
    "svm_model = SVC(kernel='rbf', C=1.0, gamma='scale', random_state=42)\n",
    "svm_model.fit(X_train_scaled, y_train)\n",
    "\n",
    "# Evaluate on the validation set\n",
    "y_val_pred = svm_model.predict(X_val_scaled)\n",
    "val_accuracy = accuracy_score(y_val, y_val_pred)\n",
    "print(f\"Validation Accuracy: {val_accuracy}\")"
   ]
  },
  {
   "cell_type": "markdown",
   "id": "c2945cbd",
   "metadata": {},
   "source": [
    "## Test the Mode"
   ]
  },
  {
   "cell_type": "code",
   "execution_count": 13,
   "id": "d81eaa37",
   "metadata": {},
   "outputs": [
    {
     "name": "stdout",
     "output_type": "stream",
     "text": [
      "Test Accuracy: 0.8497161107168204\n"
     ]
    }
   ],
   "source": [
    "# Evaluate the model on the test set\n",
    "y_test_pred = svm_model.predict(X_test_scaled)\n",
    "test_accuracy = accuracy_score(y_test, y_test_pred)\n",
    "print(f\"Test Accuracy: {test_accuracy}\")"
   ]
  },
  {
   "cell_type": "markdown",
   "id": "274e5d81",
   "metadata": {},
   "source": [
    "## Confusion Matrix and Classification Report"
   ]
  },
  {
   "cell_type": "code",
   "execution_count": 14,
   "id": "ebc964f7",
   "metadata": {},
   "outputs": [
    {
     "data": {
      "image/png": "[encoded data removed]",
      "text/plain": [
       "<Figure size 640x480 with 2 Axes>"
      ]
     },
     "metadata": {},
     "output_type": "display_data"
    },
    {
     "name": "stdout",
     "output_type": "stream",
     "text": [
      "              precision    recall  f1-score   support\n",
      "\n",
      "           0       0.97      0.76      0.85     12833\n",
      "           1       0.75      0.96      0.85      9711\n",
      "\n",
      "    accuracy                           0.85     22544\n",
      "   macro avg       0.86      0.86      0.85     22544\n",
      "weighted avg       0.87      0.85      0.85     22544\n",
      "\n"
     ]
    }
   ],
   "source": [
    "# Confusion matrix\n",
    "cm = confusion_matrix(y_test, y_test_pred)\n",
    "sns.heatmap(cm, annot=True, fmt='d', cmap='Blues', xticklabels=['Normal', 'Malicious'], yticklabels=['Normal', 'Malicious'])\n",
    "plt.xlabel('Predicted')\n",
    "plt.ylabel('True')\n",
    "plt.title('Confusion Matrix')\n",
    "plt.show()\n",
    "\n",
    "# Classification report\n",
    "print(classification_report(y_test, y_test_pred))"
   ]
  },
  {
   "cell_type": "markdown",
   "id": "5be06114",
   "metadata": {},
   "source": [
    "## Hyperparameter Tuning with GridSearchCV"
   ]
  },
  {
   "cell_type": "code",
   "execution_count": 8,
   "id": "37a92cf0",
   "metadata": {
    "scrolled": true
   },
   "outputs": [
    {
     "name": "stdout",
     "output_type": "stream",
     "text": [
      "Fitting 5 folds for each of 16 candidates, totalling 80 fits\n",
      "[CV] END .........................C=0.1, gamma=1, kernel=rbf; total time= 7.3min\n",
      "[CV] END ...........................C=1, gamma=1, kernel=rbf; total time=11.9min\n",
      "[CV] END ..........................C=10, gamma=1, kernel=rbf; total time= 9.3min\n",
      "[CV] END ......................C=100, gamma=0.01, kernel=rbf; total time=  29.7s\n",
      "[CV] END .......................C=0.1, gamma=0.1, kernel=rbf; total time= 1.8min\n",
      "[CV] END ......................C=0.1, gamma=0.01, kernel=rbf; total time= 9.1min\n",
      "[CV] END ........................C=1, gamma=0.01, kernel=rbf; total time= 8.9min\n",
      "[CV] END ..........................C=10, gamma=1, kernel=rbf; total time= 9.3min\n",
      "[CV] END .........................C=0.1, gamma=1, kernel=rbf; total time= 6.7min\n",
      "[CV] END ...........................C=1, gamma=1, kernel=rbf; total time= 9.1min\n",
      "[CV] END .......................C=1, gamma=0.001, kernel=rbf; total time=11.2min\n",
      "[CV] END .......................C=100, gamma=0.1, kernel=rbf; total time= 1.4min\n",
      "[CV] END .....................C=100, gamma=0.001, kernel=rbf; total time= 1.3min\n",
      "[CV] END .........................C=0.1, gamma=1, kernel=rbf; total time= 6.7min\n",
      "[CV] END ...........................C=1, gamma=1, kernel=rbf; total time=11.7min\n",
      "[CV] END ..........................C=10, gamma=1, kernel=rbf; total time= 9.0min\n",
      "[CV] END .......................C=100, gamma=0.1, kernel=rbf; total time= 1.3min\n",
      "[CV] END .....................C=100, gamma=0.001, kernel=rbf; total time= 1.2min\n",
      "[CV] END .......................C=0.1, gamma=0.1, kernel=rbf; total time= 1.9min\n",
      "[CV] END .....................C=0.1, gamma=0.001, kernel=rbf; total time= 5.8min\n",
      "[CV] END .........................C=1, gamma=0.1, kernel=rbf; total time= 1.5min\n",
      "[CV] END .........................C=1, gamma=0.1, kernel=rbf; total time= 1.5min\n",
      "[CV] END .........................C=1, gamma=0.1, kernel=rbf; total time= 1.5min\n",
      "[CV] END ........................C=1, gamma=0.01, kernel=rbf; total time= 1.4min\n",
      "[CV] END .......................C=1, gamma=0.001, kernel=rbf; total time=11.5min\n",
      "[CV] END ......................C=10, gamma=0.001, kernel=rbf; total time= 2.1min\n",
      "[CV] END .......................C=100, gamma=0.1, kernel=rbf; total time= 1.3min\n",
      "[CV] END ......................C=100, gamma=0.01, kernel=rbf; total time=  27.8s\n",
      "[CV] END .....................C=100, gamma=0.001, kernel=rbf; total time= 1.1min\n",
      "[CV] END ......................C=0.1, gamma=0.01, kernel=rbf; total time= 2.7min\n",
      "[CV] END .....................C=0.1, gamma=0.001, kernel=rbf; total time=13.3min\n",
      "[CV] END .......................C=1, gamma=0.001, kernel=rbf; total time=11.1min\n",
      "[CV] END .......................C=100, gamma=0.1, kernel=rbf; total time= 1.3min\n",
      "[CV] END ......................C=100, gamma=0.01, kernel=rbf; total time=  28.9s\n",
      "[CV] END .....................C=100, gamma=0.001, kernel=rbf; total time= 1.1min\n",
      "[CV] END ......................C=0.1, gamma=0.01, kernel=rbf; total time= 2.7min\n",
      "[CV] END .....................C=0.1, gamma=0.001, kernel=rbf; total time= 5.7min\n",
      "[CV] END .........................C=1, gamma=0.1, kernel=rbf; total time= 1.6min\n",
      "[CV] END .........................C=1, gamma=0.1, kernel=rbf; total time= 1.4min\n",
      "[CV] END ........................C=1, gamma=0.01, kernel=rbf; total time= 8.6min\n",
      "[CV] END ........................C=10, gamma=0.1, kernel=rbf; total time= 1.3min\n",
      "[CV] END ........................C=10, gamma=0.1, kernel=rbf; total time= 1.4min\n",
      "[CV] END ........................C=10, gamma=0.1, kernel=rbf; total time= 1.3min\n",
      "[CV] END .......................C=10, gamma=0.01, kernel=rbf; total time=  37.1s\n",
      "[CV] END ......................C=10, gamma=0.001, kernel=rbf; total time= 2.1min\n",
      "[CV] END .......................C=100, gamma=0.1, kernel=rbf; total time= 1.2min\n",
      "[CV] END ......................C=100, gamma=0.01, kernel=rbf; total time=  35.2s\n",
      "[CV] END ......................C=100, gamma=0.01, kernel=rbf; total time=  29.9s\n",
      "[CV] END .....................C=100, gamma=0.001, kernel=rbf; total time= 1.1min\n",
      "Best Parameters: {'C': 100, 'gamma': 0.1, 'kernel': 'rbf'}\n",
      "[CV] END .........................C=0.1, gamma=1, kernel=rbf; total time= 6.6min\n",
      "[CV] END .....................C=0.1, gamma=0.001, kernel=rbf; total time=13.8min\n",
      "[CV] END ........................C=10, gamma=0.1, kernel=rbf; total time= 1.4min\n",
      "[CV] END ........................C=10, gamma=0.1, kernel=rbf; total time= 1.4min\n",
      "[CV] END .......................C=10, gamma=0.01, kernel=rbf; total time=  38.9s\n",
      "[CV] END .......................C=10, gamma=0.01, kernel=rbf; total time=  37.5s\n",
      "[CV] END ......................C=10, gamma=0.001, kernel=rbf; total time= 2.1min\n",
      "[CV] END .........................C=100, gamma=1, kernel=rbf; total time= 6.9min\n",
      "[CV] END .......................C=0.1, gamma=0.1, kernel=rbf; total time= 1.8min\n",
      "[CV] END ......................C=0.1, gamma=0.01, kernel=rbf; total time= 9.2min\n",
      "[CV] END ........................C=1, gamma=0.01, kernel=rbf; total time= 1.4min\n",
      "[CV] END .......................C=1, gamma=0.001, kernel=rbf; total time=11.5min\n",
      "[CV] END .......................C=10, gamma=0.01, kernel=rbf; total time=  37.0s\n",
      "[CV] END ......................C=10, gamma=0.001, kernel=rbf; total time= 2.1min\n",
      "[CV] END .........................C=100, gamma=1, kernel=rbf; total time= 6.9min\n",
      "[CV] END .........................C=0.1, gamma=1, kernel=rbf; total time= 6.7min\n",
      "[CV] END ...........................C=1, gamma=1, kernel=rbf; total time= 9.4min\n",
      "[CV] END ..........................C=10, gamma=1, kernel=rbf; total time= 9.4min\n",
      "[CV] END .........................C=100, gamma=1, kernel=rbf; total time= 8.7min\n",
      "[CV] END .......................C=0.1, gamma=0.1, kernel=rbf; total time= 1.8min\n",
      "[CV] END .....................C=0.1, gamma=0.001, kernel=rbf; total time= 5.8min\n",
      "[CV] END ...........................C=1, gamma=1, kernel=rbf; total time= 9.5min\n",
      "[CV] END ..........................C=10, gamma=1, kernel=rbf; total time= 9.4min\n",
      "[CV] END .........................C=100, gamma=1, kernel=rbf; total time= 7.9min\n",
      "[CV] END .......................C=0.1, gamma=0.1, kernel=rbf; total time= 1.8min\n",
      "[CV] END ......................C=0.1, gamma=0.01, kernel=rbf; total time= 9.1min\n",
      "[CV] END ........................C=1, gamma=0.01, kernel=rbf; total time= 1.4min\n",
      "[CV] END .......................C=1, gamma=0.001, kernel=rbf; total time=11.5min\n",
      "[CV] END .......................C=10, gamma=0.01, kernel=rbf; total time=  36.6s\n",
      "[CV] END ......................C=10, gamma=0.001, kernel=rbf; total time= 2.1min\n",
      "[CV] END .........................C=100, gamma=1, kernel=rbf; total time= 8.0min\n"
     ]
    }
   ],
   "source": [
    "from sklearn.model_selection import GridSearchCV\n",
    "\n",
    "# Define hyperparameter grid\n",
    "param_grid = {\n",
    "    'C': [0.1, 1, 10, 100],\n",
    "    'gamma': [1, 0.1, 0.01, 0.001],\n",
    "    'kernel': ['rbf']\n",
    "}\n",
    "\n",
    "# Initialize GridSearchCV\n",
    "grid = GridSearchCV(SVC(), param_grid, refit=True, verbose=2, scoring='accuracy', cv=5, n_jobs=-1)\n",
    "grid.fit(X_train_scaled, y_train)\n",
    "\n",
    "# Print the best parameters\n",
    "print(\"Best Parameters:\", grid.best_params_)\n",
    "\n",
    "# Use the best model\n",
    "best_svm_model = grid.best_estimator_"
   ]
  },
  {
   "cell_type": "markdown",
   "id": "7033dd04",
   "metadata": {},
   "source": [
    "## Evaluate the Optimized Model"
   ]
  },
  {
   "cell_type": "code",
   "execution_count": 15,
   "id": "7cc33e3e",
   "metadata": {},
   "outputs": [
    {
     "name": "stdout",
     "output_type": "stream",
     "text": [
      "Optimized Test Accuracy: 0.8177785663591199\n"
     ]
    },
    {
     "data": {
      "image/png": "[encoded data removed]",
      "text/plain": [
       "<Figure size 640x480 with 2 Axes>"
      ]
     },
     "metadata": {},
     "output_type": "display_data"
    },
    {
     "name": "stdout",
     "output_type": "stream",
     "text": [
      "              precision    recall  f1-score   support\n",
      "\n",
      "           0       0.98      0.70      0.81     12833\n",
      "           1       0.71      0.98      0.82      9711\n",
      "\n",
      "    accuracy                           0.82     22544\n",
      "   macro avg       0.84      0.84      0.82     22544\n",
      "weighted avg       0.86      0.82      0.82     22544\n",
      "\n"
     ]
    }
   ],
   "source": [
    "# Evaluate the optimized model on the test set\n",
    "y_test_pred_optimized = best_svm_model.predict(X_test_scaled)\n",
    "optimized_accuracy = accuracy_score(y_test, y_test_pred_optimized)\n",
    "print(f\"Optimized Test Accuracy: {optimized_accuracy}\")\n",
    "\n",
    "# Confusion matrix for the optimized model\n",
    "cm_optimized = confusion_matrix(y_test, y_test_pred_optimized)\n",
    "sns.heatmap(cm_optimized, annot=True, fmt='d', cmap='Blues', xticklabels=['Normal', 'Malicious'], yticklabels=['Normal', 'Malicious'])\n",
    "plt.xlabel('Predicted')\n",
    "plt.ylabel('True')\n",
    "plt.title('Optimized Confusion Matrix')\n",
    "plt.show()\n",
    "\n",
    "# Classification report for the optimized model\n",
    "print(classification_report(y_test, y_test_pred_optimized))"
   ]
  },
  {
   "cell_type": "markdown",
   "id": "afb86c51",
   "metadata": {},
   "source": [
    "## Save the Trained SVM Model"
   ]
  },
  {
   "cell_type": "code",
   "execution_count": 16,
   "id": "58ad98bc",
   "metadata": {},
   "outputs": [
    {
     "name": "stdout",
     "output_type": "stream",
     "text": [
      "SVM model saved to: ../../3_Post-Modeling-Phase/Trained_ML_models/Models-NSL-KDD/NSL-KDD_SVM_Model.joblib\n"
     ]
    }
   ],
   "source": [
    "import joblib\n",
    "\n",
    "# Save the SVM model\n",
    "model_folder = \"../../3_Post-Modeling-Phase/Trained_ML_models/Models-NSL-KDD/\"\n",
    "model_filename = \"NSL-KDD_SVM_Model.joblib\"\n",
    "model_path = model_folder + model_filename\n",
    "\n",
    "# Save the model using joblib\n",
    "joblib.dump(best_svm_model, model_path)\n",
    "print(f\"SVM model saved to: {model_path}\")\n"
   ]
  },
  {
   "cell_type": "code",
   "execution_count": null,
   "id": "74e84a0d",
   "metadata": {},
   "outputs": [],
   "source": []
  }
 ],
 "metadata": {
  "kernelspec": {
   "display_name": "Python 3 (ipykernel)",
   "language": "python",
   "name": "python3"
  },
  "language_info": {
   "codemirror_mode": {
    "name": "ipython",
    "version": 3
   },
   "file_extension": ".py",
   "mimetype": "text/x-python",
   "name": "python",
   "nbconvert_exporter": "python",
   "pygments_lexer": "ipython3",
   "version": "3.11.4"
  }
 },
 "nbformat": 4,
 "nbformat_minor": 5
}
