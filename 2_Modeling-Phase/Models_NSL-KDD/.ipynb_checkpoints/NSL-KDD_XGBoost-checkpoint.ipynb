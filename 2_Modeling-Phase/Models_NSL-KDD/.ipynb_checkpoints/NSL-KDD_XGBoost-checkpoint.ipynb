{
 "cells": [
  {
   "cell_type": "markdown",
   "id": "99d05e7e",
   "metadata": {},
   "source": [
    "# 6. XGBOOST MODEL BUILD"
   ]
  },
  {
   "cell_type": "code",
   "execution_count": 1,
   "id": "75eb6874",
   "metadata": {},
   "outputs": [],
   "source": [
    "# Import necessary libraries\n",
    "import pandas as pd\n",
    "import numpy as np\n",
    "import joblib\n",
    "import xgboost as xgb\n",
    "import matplotlib.pyplot as plt\n",
    "import seaborn as sns\n",
    "import psutil  # For computational overhead tracking\n",
    "import time    # For measuring execution time\n",
    "from sklearn.metrics import classification_report, confusion_matrix, accuracy_score, precision_score, recall_score, f1_score, ConfusionMatrixDisplay, roc_auc_score\n",
    "from sklearn.model_selection import train_test_split, GridSearchCV\n",
    "from xgboost import XGBClassifier\n",
    "from imblearn.over_sampling import SMOTE"
   ]
  },
  {
   "cell_type": "markdown",
   "id": "2318723b",
   "metadata": {},
   "source": [
    "## Load Train and Test Datasets"
   ]
  },
  {
   "cell_type": "code",
   "execution_count": 2,
   "id": "22a9cc04",
   "metadata": {},
   "outputs": [
    {
     "data": {
      "text/plain": [
       "((100778, 42), (25195, 42), (22544, 42))"
      ]
     },
     "execution_count": 2,
     "metadata": {},
     "output_type": "execute_result"
    }
   ],
   "source": [
    "# Load train and test datasets\n",
    "df_train = pd.read_csv('../../2_Modeling-Phase/train_and_test_datasets/NSL-KDD/train.csv')\n",
    "df_test = pd.read_csv('../../2_Modeling-Phase/train_and_test_datasets/NSL-KDD/test.csv')\n",
    "\n",
    "# Separate features and target\n",
    "X_train = df_train.drop(['binary_attack'], axis=1)  # Features\n",
    "y_train = df_train['binary_attack']  # Target variable\n",
    "X_test = df_test.drop(['binary_attack'], axis=1)  # Features\n",
    "y_test = df_test['binary_attack']  # Target variable\n",
    "\n",
    "# Split train data into training and validation sets\n",
    "X_train, X_val, y_train, y_val = train_test_split(X_train, y_train, test_size=0.2, random_state=42)\n",
    "\n",
    "# Display dataset shapes\n",
    "X_train.shape, X_val.shape, X_test.shape\n"
   ]
  },
  {
   "cell_type": "markdown",
   "id": "89e1a71c",
   "metadata": {},
   "source": [
    "# Feature Selection - Remove Low-Importance Features"
   ]
  },
  {
   "cell_type": "code",
   "execution_count": 3,
   "id": "688dd42e",
   "metadata": {},
   "outputs": [
    {
     "name": "stdout",
     "output_type": "stream",
     "text": [
      "Removed 21 low-importance features: ['dst_host_diff_srv_rate', 'dst_host_srv_serror_rate', 'wrong_fragment', 'same_srv_rate', 'srv_serror_rate', 'num_root', 'logged_in', 'rerror_rate', 'srv_rerror_rate', 'num_file_creations', 'srv_diff_host_rate', 'num_failed_logins', 'urgent', 'root_shell', 'land', 'su_attempted', 'is_host_login', 'num_outbound_cmds', 'num_access_files', 'num_shells', 'is_guest_login']\n"
     ]
    }
   ],
   "source": [
    "# Train an initial XGBoost model to get feature importances\n",
    "temp_model = XGBClassifier(n_estimators=100, max_depth=3, learning_rate=0.1, random_state=42)\n",
    "temp_model.fit(X_train, y_train)\n",
    "\n",
    "# Get feature importances\n",
    "feature_importance = pd.DataFrame({'Feature': X_train.columns, 'Importance': temp_model.feature_importances_})\n",
    "feature_importance = feature_importance.sort_values(by='Importance', ascending=False)\n",
    "\n",
    "# Drop features with importance below a threshold (e.g., 0.005)\n",
    "low_importance_features = feature_importance[feature_importance['Importance'] < 0.005]['Feature'].tolist()\n",
    "\n",
    "# Remove low-importance features\n",
    "X_train = X_train.drop(columns=low_importance_features)\n",
    "X_val = X_val.drop(columns=low_importance_features)\n",
    "X_test = X_test.drop(columns=low_importance_features)\n",
    "\n",
    "print(f\"Removed {len(low_importance_features)} low-importance features: {low_importance_features}\")\n"
   ]
  },
  {
   "cell_type": "markdown",
   "id": "d5ccb575",
   "metadata": {},
   "source": [
    "# Track Computational Overhead Before Training"
   ]
  },
  {
   "cell_type": "code",
   "execution_count": 4,
   "id": "4e66231c",
   "metadata": {},
   "outputs": [],
   "source": [
    "# Start measuring computational overhead\n",
    "start_time = time.time()\n",
    "cpu_before = psutil.cpu_percent(interval=None)\n",
    "mem_before = psutil.virtual_memory().used\n",
    "disk_before = psutil.disk_io_counters().write_bytes"
   ]
  },
  {
   "cell_type": "markdown",
   "id": "d029ad87",
   "metadata": {},
   "source": [
    "# Apply SMOTE for Class Balancing"
   ]
  },
  {
   "cell_type": "code",
   "execution_count": 5,
   "id": "fd0870c4",
   "metadata": {},
   "outputs": [],
   "source": [
    "smote = SMOTE(random_state=42)\n",
    "X_train_resampled, y_train_resampled = smote.fit_resample(X_train, y_train)"
   ]
  },
  {
   "cell_type": "markdown",
   "id": "dd94a0b6",
   "metadata": {},
   "source": [
    "# Train XGBoost Model with Regularization and Early Stopping"
   ]
  },
  {
   "cell_type": "code",
   "execution_count": 6,
   "id": "b63ff52b",
   "metadata": {},
   "outputs": [
    {
     "data": {
      "text/html": [
       "<style>#sk-container-id-1 {color: black;background-color: white;}#sk-container-id-1 pre{padding: 0;}#sk-container-id-1 div.sk-toggleable {background-color: white;}#sk-container-id-1 label.sk-toggleable__label {cursor: pointer;display: block;width: 100%;margin-bottom: 0;padding: 0.3em;box-sizing: border-box;text-align: center;}#sk-container-id-1 label.sk-toggleable__label-arrow:before {content: \"▸\";float: left;margin-right: 0.25em;color: #696969;}#sk-container-id-1 label.sk-toggleable__label-arrow:hover:before {color: black;}#sk-container-id-1 div.sk-estimator:hover label.sk-toggleable__label-arrow:before {color: black;}#sk-container-id-1 div.sk-toggleable__content {max-height: 0;max-width: 0;overflow: hidden;text-align: left;background-color: #f0f8ff;}#sk-container-id-1 div.sk-toggleable__content pre {margin: 0.2em;color: black;border-radius: 0.25em;background-color: #f0f8ff;}#sk-container-id-1 input.sk-toggleable__control:checked~div.sk-toggleable__content {max-height: 200px;max-width: 100%;overflow: auto;}#sk-container-id-1 input.sk-toggleable__control:checked~label.sk-toggleable__label-arrow:before {content: \"▾\";}#sk-container-id-1 div.sk-estimator input.sk-toggleable__control:checked~label.sk-toggleable__label {background-color: #d4ebff;}#sk-container-id-1 div.sk-label input.sk-toggleable__control:checked~label.sk-toggleable__label {background-color: #d4ebff;}#sk-container-id-1 input.sk-hidden--visually {border: 0;clip: rect(1px 1px 1px 1px);clip: rect(1px, 1px, 1px, 1px);height: 1px;margin: -1px;overflow: hidden;padding: 0;position: absolute;width: 1px;}#sk-container-id-1 div.sk-estimator {font-family: monospace;background-color: #f0f8ff;border: 1px dotted black;border-radius: 0.25em;box-sizing: border-box;margin-bottom: 0.5em;}#sk-container-id-1 div.sk-estimator:hover {background-color: #d4ebff;}#sk-container-id-1 div.sk-parallel-item::after {content: \"\";width: 100%;border-bottom: 1px solid gray;flex-grow: 1;}#sk-container-id-1 div.sk-label:hover label.sk-toggleable__label {background-color: #d4ebff;}#sk-container-id-1 div.sk-serial::before {content: \"\";position: absolute;border-left: 1px solid gray;box-sizing: border-box;top: 0;bottom: 0;left: 50%;z-index: 0;}#sk-container-id-1 div.sk-serial {display: flex;flex-direction: column;align-items: center;background-color: white;padding-right: 0.2em;padding-left: 0.2em;position: relative;}#sk-container-id-1 div.sk-item {position: relative;z-index: 1;}#sk-container-id-1 div.sk-parallel {display: flex;align-items: stretch;justify-content: center;background-color: white;position: relative;}#sk-container-id-1 div.sk-item::before, #sk-container-id-1 div.sk-parallel-item::before {content: \"\";position: absolute;border-left: 1px solid gray;box-sizing: border-box;top: 0;bottom: 0;left: 50%;z-index: -1;}#sk-container-id-1 div.sk-parallel-item {display: flex;flex-direction: column;z-index: 1;position: relative;background-color: white;}#sk-container-id-1 div.sk-parallel-item:first-child::after {align-self: flex-end;width: 50%;}#sk-container-id-1 div.sk-parallel-item:last-child::after {align-self: flex-start;width: 50%;}#sk-container-id-1 div.sk-parallel-item:only-child::after {width: 0;}#sk-container-id-1 div.sk-dashed-wrapped {border: 1px dashed gray;margin: 0 0.4em 0.5em 0.4em;box-sizing: border-box;padding-bottom: 0.4em;background-color: white;}#sk-container-id-1 div.sk-label label {font-family: monospace;font-weight: bold;display: inline-block;line-height: 1.2em;}#sk-container-id-1 div.sk-label-container {text-align: center;}#sk-container-id-1 div.sk-container {/* jupyter's `normalize.less` sets `[hidden] { display: none; }` but bootstrap.min.css set `[hidden] { display: none !important; }` so we also need the `!important` here to be able to override the default hidden behavior on the sphinx rendered scikit-learn.org. See: https://github.com/scikit-learn/scikit-learn/issues/21755 */display: inline-block !important;position: relative;}#sk-container-id-1 div.sk-text-repr-fallback {display: none;}</style><div id=\"sk-container-id-1\" class=\"sk-top-container\"><div class=\"sk-text-repr-fallback\"><pre>XGBClassifier(base_score=None, booster=None, callbacks=None,\n",
       "              colsample_bylevel=None, colsample_bynode=None,\n",
       "              colsample_bytree=0.5, device=None, early_stopping_rounds=None,\n",
       "              enable_categorical=False, eval_metric=&#x27;logloss&#x27;,\n",
       "              feature_types=None, gamma=None, grow_policy=&#x27;lossguide&#x27;,\n",
       "              importance_type=None, interaction_constraints=None,\n",
       "              learning_rate=0.03, max_bin=None, max_cat_threshold=None,\n",
       "              max_cat_to_onehot=None, max_delta_step=None, max_depth=4,\n",
       "              max_leaves=None, min_child_weight=None, missing=nan,\n",
       "              monotone_constraints=None, multi_strategy=None, n_estimators=500,\n",
       "              n_jobs=None, num_parallel_tree=None, random_state=42, ...)</pre><b>In a Jupyter environment, please rerun this cell to show the HTML representation or trust the notebook. <br />On GitHub, the HTML representation is unable to render, please try loading this page with nbviewer.org.</b></div><div class=\"sk-container\" hidden><div class=\"sk-item\"><div class=\"sk-estimator sk-toggleable\"><input class=\"sk-toggleable__control sk-hidden--visually\" id=\"sk-estimator-id-1\" type=\"checkbox\" checked><label for=\"sk-estimator-id-1\" class=\"sk-toggleable__label sk-toggleable__label-arrow\">XGBClassifier</label><div class=\"sk-toggleable__content\"><pre>XGBClassifier(base_score=None, booster=None, callbacks=None,\n",
       "              colsample_bylevel=None, colsample_bynode=None,\n",
       "              colsample_bytree=0.5, device=None, early_stopping_rounds=None,\n",
       "              enable_categorical=False, eval_metric=&#x27;logloss&#x27;,\n",
       "              feature_types=None, gamma=None, grow_policy=&#x27;lossguide&#x27;,\n",
       "              importance_type=None, interaction_constraints=None,\n",
       "              learning_rate=0.03, max_bin=None, max_cat_threshold=None,\n",
       "              max_cat_to_onehot=None, max_delta_step=None, max_depth=4,\n",
       "              max_leaves=None, min_child_weight=None, missing=nan,\n",
       "              monotone_constraints=None, multi_strategy=None, n_estimators=500,\n",
       "              n_jobs=None, num_parallel_tree=None, random_state=42, ...)</pre></div></div></div></div></div>"
      ],
      "text/plain": [
       "XGBClassifier(base_score=None, booster=None, callbacks=None,\n",
       "              colsample_bylevel=None, colsample_bynode=None,\n",
       "              colsample_bytree=0.5, device=None, early_stopping_rounds=None,\n",
       "              enable_categorical=False, eval_metric='logloss',\n",
       "              feature_types=None, gamma=None, grow_policy='lossguide',\n",
       "              importance_type=None, interaction_constraints=None,\n",
       "              learning_rate=0.03, max_bin=None, max_cat_threshold=None,\n",
       "              max_cat_to_onehot=None, max_delta_step=None, max_depth=4,\n",
       "              max_leaves=None, min_child_weight=None, missing=nan,\n",
       "              monotone_constraints=None, multi_strategy=None, n_estimators=500,\n",
       "              n_jobs=None, num_parallel_tree=None, random_state=42, ...)"
      ]
     },
     "execution_count": 6,
     "metadata": {},
     "output_type": "execute_result"
    }
   ],
   "source": [
    "xgb_model = XGBClassifier(\n",
    "    n_estimators=500,         # More trees for better learning\n",
    "    max_depth=4,              # Lower depth to prevent overfitting\n",
    "    learning_rate=0.03,       # Reduce learning rate\n",
    "    subsample=0.7,            # Use 60% of training data per tree\n",
    "    colsample_bytree=0.5,     # Use 60% of features per tree\n",
    "    reg_lambda=10,            # Higher L2 regularization\n",
    "    reg_alpha=1,              # Higher L1 regularization\n",
    "    grow_policy=\"lossguide\",  # Helps prune unnecessary deep trees\n",
    "#    use_label_encoder=False,  # Suppress unnecessary warnings\n",
    "    eval_metric=\"logloss\",    # Metric for early stopping\n",
    "    random_state=42\n",
    ")\n",
    "\n",
    "xgb_model.fit(X_train_resampled, y_train_resampled)\n"
   ]
  },
  {
   "cell_type": "markdown",
   "id": "32bb2344",
   "metadata": {},
   "source": [
    "# Evaluate Model on Test Data"
   ]
  },
  {
   "cell_type": "code",
   "execution_count": 8,
   "id": "1cd60e4d",
   "metadata": {},
   "outputs": [
    {
     "name": "stdout",
     "output_type": "stream",
     "text": [
      "\n",
      "📌 **Final Model Performance on Test Set**\n",
      "✅ Accuracy:   0.8680\n",
      "✅ Precision:  0.7773\n",
      "✅ Recall:     0.9722\n",
      "✅ F1-score:   0.8639\n"
     ]
    }
   ],
   "source": [
    "# Predict on test set\n",
    "y_pred = xgb_model.predict(X_test)\n",
    "\n",
    "# Compute performance metrics\n",
    "accuracy = accuracy_score(y_test, y_pred)\n",
    "precision = precision_score(y_test, y_pred)\n",
    "recall = recall_score(y_test, y_pred)\n",
    "f1 = f1_score(y_test, y_pred)\n",
    "\n",
    "print(\"\\n📌 **Final Model Performance on Test Set**\")\n",
    "print(f\"✅ Accuracy:   {accuracy:.4f}\")\n",
    "print(f\"✅ Precision:  {precision:.4f}\")\n",
    "print(f\"✅ Recall:     {recall:.4f}\")\n",
    "print(f\"✅ F1-score:   {f1:.4f}\")\n"
   ]
  },
  {
   "cell_type": "markdown",
   "id": "4018042c",
   "metadata": {},
   "source": [
    "# Track Computational Overhead After Training"
   ]
  },
  {
   "cell_type": "code",
   "execution_count": 9,
   "id": "c83cffcb",
   "metadata": {},
   "outputs": [],
   "source": [
    "# Capture system metrics after training\n",
    "end_time = time.time()\n",
    "cpu_after = psutil.cpu_percent(interval=None)\n",
    "mem_after = psutil.virtual_memory().used\n",
    "disk_after = psutil.disk_io_counters().write_bytes\n",
    "\n",
    "# Compute computational overhead\n",
    "execution_time = end_time - start_time\n",
    "cpu_usage_change = cpu_after - cpu_before\n",
    "memory_used = (mem_after - mem_before) / (1024 ** 2)  # Convert bytes to MB\n",
    "disk_io_used = (disk_after - disk_before) / (1024 ** 2)  # Convert bytes to MB\n"
   ]
  },
  {
   "cell_type": "markdown",
   "id": "ca0b7c8f",
   "metadata": {},
   "source": [
    "# Extract Feature Importance (Gini Importance)"
   ]
  },
  {
   "cell_type": "code",
   "execution_count": 10,
   "id": "bc8eaf5f",
   "metadata": {},
   "outputs": [
    {
     "name": "stdout",
     "output_type": "stream",
     "text": [
      "Top 11 Important Features:\n",
      "                         Feature  Importance\n",
      "5                     dst_bytes    0.197239\n",
      "4                     src_bytes    0.178459\n",
      "3                          flag    0.139252\n",
      "11                diff_srv_rate    0.083673\n",
      "1                 protocol_type    0.051441\n",
      "20                        level    0.047145\n",
      "8                         count    0.046493\n",
      "15  dst_host_same_src_port_rate    0.033767\n",
      "13           dst_host_srv_count    0.033367\n",
      "9                     srv_count    0.026698\n",
      "7               num_compromised    0.026511\n",
      "14       dst_host_same_srv_rate    0.025927\n",
      "6                           hot    0.025436\n",
      "12               dst_host_count    0.014167\n"
     ]
    }
   ],
   "source": [
    "# Extract feature importance\n",
    "feature_importance = xgb_model.feature_importances_\n",
    "\n",
    "# Convert to DataFrame\n",
    "importance_df = pd.DataFrame({'Feature': X_train.columns, 'Importance': feature_importance})\n",
    "\n",
    "# Sort by importance\n",
    "importance_df = importance_df.sort_values(by='Importance', ascending=False)\n",
    "\n",
    "# Display Top Features\n",
    "print(\"Top 11 Important Features:\\n\", importance_df.head(14))\n"
   ]
  },
  {
   "cell_type": "markdown",
   "id": "e50c9e47",
   "metadata": {},
   "source": [
    "# Visualizing Feature Importance"
   ]
  },
  {
   "cell_type": "code",
   "execution_count": 37,
   "id": "f743ec20",
   "metadata": {},
   "outputs": [
    {
     "data": {
      "image/png": "[encoded data removed]",
      "text/plain": [
       "<Figure size 1200x600 with 1 Axes>"
      ]
     },
     "metadata": {},
     "output_type": "display_data"
    }
   ],
   "source": [
    "# Plot the top 10 important features\n",
    "plt.figure(figsize=(12, 6))\n",
    "sns.barplot(x=importance_df['Importance'][:14], y=importance_df['Feature'][:14])\n",
    "plt.xlabel('Importance')\n",
    "plt.ylabel('Feature')\n",
    "plt.title('Top 14 Important Features (Gini Importance) - XGBoost')\n",
    "plt.show()"
   ]
  },
  {
   "cell_type": "markdown",
   "id": "cb87bda1",
   "metadata": {},
   "source": [
    "#  Select Top Features and Retrain the Model"
   ]
  },
  {
   "cell_type": "code",
   "execution_count": 38,
   "id": "a1476572",
   "metadata": {},
   "outputs": [],
   "source": [
    "# Select top 10 important features\n",
    "top_features = importance_df['Feature'][:14].values\n",
    "\n",
    "# Reduce dataset to selected features\n",
    "X_train_selected = X_train[top_features]\n",
    "X_test_selected = X_test[top_features]"
   ]
  },
  {
   "cell_type": "markdown",
   "id": "c903d96d",
   "metadata": {},
   "source": [
    "# Retrain XGBoost on Selected Features"
   ]
  },
  {
   "cell_type": "code",
   "execution_count": 39,
   "id": "2f631b31",
   "metadata": {},
   "outputs": [
    {
     "data": {
      "text/html": [
       "<style>#sk-container-id-7 {color: black;background-color: white;}#sk-container-id-7 pre{padding: 0;}#sk-container-id-7 div.sk-toggleable {background-color: white;}#sk-container-id-7 label.sk-toggleable__label {cursor: pointer;display: block;width: 100%;margin-bottom: 0;padding: 0.3em;box-sizing: border-box;text-align: center;}#sk-container-id-7 label.sk-toggleable__label-arrow:before {content: \"▸\";float: left;margin-right: 0.25em;color: #696969;}#sk-container-id-7 label.sk-toggleable__label-arrow:hover:before {color: black;}#sk-container-id-7 div.sk-estimator:hover label.sk-toggleable__label-arrow:before {color: black;}#sk-container-id-7 div.sk-toggleable__content {max-height: 0;max-width: 0;overflow: hidden;text-align: left;background-color: #f0f8ff;}#sk-container-id-7 div.sk-toggleable__content pre {margin: 0.2em;color: black;border-radius: 0.25em;background-color: #f0f8ff;}#sk-container-id-7 input.sk-toggleable__control:checked~div.sk-toggleable__content {max-height: 200px;max-width: 100%;overflow: auto;}#sk-container-id-7 input.sk-toggleable__control:checked~label.sk-toggleable__label-arrow:before {content: \"▾\";}#sk-container-id-7 div.sk-estimator input.sk-toggleable__control:checked~label.sk-toggleable__label {background-color: #d4ebff;}#sk-container-id-7 div.sk-label input.sk-toggleable__control:checked~label.sk-toggleable__label {background-color: #d4ebff;}#sk-container-id-7 input.sk-hidden--visually {border: 0;clip: rect(1px 1px 1px 1px);clip: rect(1px, 1px, 1px, 1px);height: 1px;margin: -1px;overflow: hidden;padding: 0;position: absolute;width: 1px;}#sk-container-id-7 div.sk-estimator {font-family: monospace;background-color: #f0f8ff;border: 1px dotted black;border-radius: 0.25em;box-sizing: border-box;margin-bottom: 0.5em;}#sk-container-id-7 div.sk-estimator:hover {background-color: #d4ebff;}#sk-container-id-7 div.sk-parallel-item::after {content: \"\";width: 100%;border-bottom: 1px solid gray;flex-grow: 1;}#sk-container-id-7 div.sk-label:hover label.sk-toggleable__label {background-color: #d4ebff;}#sk-container-id-7 div.sk-serial::before {content: \"\";position: absolute;border-left: 1px solid gray;box-sizing: border-box;top: 0;bottom: 0;left: 50%;z-index: 0;}#sk-container-id-7 div.sk-serial {display: flex;flex-direction: column;align-items: center;background-color: white;padding-right: 0.2em;padding-left: 0.2em;position: relative;}#sk-container-id-7 div.sk-item {position: relative;z-index: 1;}#sk-container-id-7 div.sk-parallel {display: flex;align-items: stretch;justify-content: center;background-color: white;position: relative;}#sk-container-id-7 div.sk-item::before, #sk-container-id-7 div.sk-parallel-item::before {content: \"\";position: absolute;border-left: 1px solid gray;box-sizing: border-box;top: 0;bottom: 0;left: 50%;z-index: -1;}#sk-container-id-7 div.sk-parallel-item {display: flex;flex-direction: column;z-index: 1;position: relative;background-color: white;}#sk-container-id-7 div.sk-parallel-item:first-child::after {align-self: flex-end;width: 50%;}#sk-container-id-7 div.sk-parallel-item:last-child::after {align-self: flex-start;width: 50%;}#sk-container-id-7 div.sk-parallel-item:only-child::after {width: 0;}#sk-container-id-7 div.sk-dashed-wrapped {border: 1px dashed gray;margin: 0 0.4em 0.5em 0.4em;box-sizing: border-box;padding-bottom: 0.4em;background-color: white;}#sk-container-id-7 div.sk-label label {font-family: monospace;font-weight: bold;display: inline-block;line-height: 1.2em;}#sk-container-id-7 div.sk-label-container {text-align: center;}#sk-container-id-7 div.sk-container {/* jupyter's `normalize.less` sets `[hidden] { display: none; }` but bootstrap.min.css set `[hidden] { display: none !important; }` so we also need the `!important` here to be able to override the default hidden behavior on the sphinx rendered scikit-learn.org. See: https://github.com/scikit-learn/scikit-learn/issues/21755 */display: inline-block !important;position: relative;}#sk-container-id-7 div.sk-text-repr-fallback {display: none;}</style><div id=\"sk-container-id-7\" class=\"sk-top-container\"><div class=\"sk-text-repr-fallback\"><pre>XGBClassifier(base_score=None, booster=None, callbacks=None,\n",
       "              colsample_bylevel=None, colsample_bynode=None,\n",
       "              colsample_bytree=0.7, device=None, early_stopping_rounds=None,\n",
       "              enable_categorical=False, eval_metric=&#x27;logloss&#x27;,\n",
       "              feature_types=None, gamma=None, grow_policy=&#x27;lossguide&#x27;,\n",
       "              importance_type=None, interaction_constraints=None,\n",
       "              learning_rate=0.02, max_bin=None, max_cat_threshold=None,\n",
       "              max_cat_to_onehot=None, max_delta_step=None, max_depth=2,\n",
       "              max_leaves=None, min_child_weight=None, missing=nan,\n",
       "              monotone_constraints=None, multi_strategy=None, n_estimators=300,\n",
       "              n_jobs=None, num_parallel_tree=None, random_state=42, ...)</pre><b>In a Jupyter environment, please rerun this cell to show the HTML representation or trust the notebook. <br />On GitHub, the HTML representation is unable to render, please try loading this page with nbviewer.org.</b></div><div class=\"sk-container\" hidden><div class=\"sk-item\"><div class=\"sk-estimator sk-toggleable\"><input class=\"sk-toggleable__control sk-hidden--visually\" id=\"sk-estimator-id-7\" type=\"checkbox\" checked><label for=\"sk-estimator-id-7\" class=\"sk-toggleable__label sk-toggleable__label-arrow\">XGBClassifier</label><div class=\"sk-toggleable__content\"><pre>XGBClassifier(base_score=None, booster=None, callbacks=None,\n",
       "              colsample_bylevel=None, colsample_bynode=None,\n",
       "              colsample_bytree=0.7, device=None, early_stopping_rounds=None,\n",
       "              enable_categorical=False, eval_metric=&#x27;logloss&#x27;,\n",
       "              feature_types=None, gamma=None, grow_policy=&#x27;lossguide&#x27;,\n",
       "              importance_type=None, interaction_constraints=None,\n",
       "              learning_rate=0.02, max_bin=None, max_cat_threshold=None,\n",
       "              max_cat_to_onehot=None, max_delta_step=None, max_depth=2,\n",
       "              max_leaves=None, min_child_weight=None, missing=nan,\n",
       "              monotone_constraints=None, multi_strategy=None, n_estimators=300,\n",
       "              n_jobs=None, num_parallel_tree=None, random_state=42, ...)</pre></div></div></div></div></div>"
      ],
      "text/plain": [
       "XGBClassifier(base_score=None, booster=None, callbacks=None,\n",
       "              colsample_bylevel=None, colsample_bynode=None,\n",
       "              colsample_bytree=0.7, device=None, early_stopping_rounds=None,\n",
       "              enable_categorical=False, eval_metric='logloss',\n",
       "              feature_types=None, gamma=None, grow_policy='lossguide',\n",
       "              importance_type=None, interaction_constraints=None,\n",
       "              learning_rate=0.02, max_bin=None, max_cat_threshold=None,\n",
       "              max_cat_to_onehot=None, max_delta_step=None, max_depth=2,\n",
       "              max_leaves=None, min_child_weight=None, missing=nan,\n",
       "              monotone_constraints=None, multi_strategy=None, n_estimators=300,\n",
       "              n_jobs=None, num_parallel_tree=None, random_state=42, ...)"
      ]
     },
     "execution_count": 39,
     "metadata": {},
     "output_type": "execute_result"
    }
   ],
   "source": [
    "# Train a new XGBoost Model using only selected features\n",
    "xgb_selected_model = xgb.XGBClassifier(\n",
    "    n_estimators=300,         # More trees for better learning\n",
    "    max_depth=2,              # Lower depth to prevent overfitting\n",
    "    learning_rate=0.02,       # Reduce learning rate\n",
    "    subsample=0.7,            # Use 60% of training data per tree\n",
    "    colsample_bytree=0.7,     # Use 60% of features per tree\n",
    "    reg_lambda=10,            # Higher L2 regularization\n",
    "    reg_alpha=1,              # Higher L1 regularization\n",
    "    grow_policy=\"lossguide\",  # Helps prune unnecessary deep trees\n",
    "#     use_label_encoder=False,  # Suppress unnecessary warnings\n",
    "    eval_metric=\"logloss\",    # Metric for early stopping\n",
    "    random_state=42\n",
    ")\n",
    "\n",
    "xgb_selected_model.fit(X_train_selected, y_train)"
   ]
  },
  {
   "cell_type": "markdown",
   "id": "52a12bb7",
   "metadata": {},
   "source": [
    "# Evaluate the Retrained Model"
   ]
  },
  {
   "cell_type": "code",
   "execution_count": 40,
   "id": "d1e7f1b0",
   "metadata": {},
   "outputs": [
    {
     "name": "stdout",
     "output_type": "stream",
     "text": [
      "\n",
      "Test Metrics (Using Selected Features):\n",
      "Accuracy:   86.56%\n",
      "Precision:  77.55%\n",
      "Recall:     96.85%\n",
      "F1-score:   86.13%\n"
     ]
    }
   ],
   "source": [
    "# Predict on test set\n",
    "y_test_pred_selected = xgb_selected_model.predict(X_test_selected)\n",
    "\n",
    "# Compute accuracy\n",
    "test_accuracy_selected = accuracy_score(y_test, y_test_pred_selected)\n",
    "test_precision_selected = precision_score(y_test, y_test_pred_selected)\n",
    "test_recall_selected = recall_score(y_test, y_test_pred_selected)\n",
    "test_f1_selected = f1_score(y_test, y_test_pred_selected)\n",
    "\n",
    "print(\"\\nTest Metrics (Using Selected Features):\")\n",
    "print(f\"Accuracy:   {test_accuracy_selected:.2%}\")\n",
    "print(f\"Precision:  {test_precision_selected:.2%}\")\n",
    "print(f\"Recall:     {test_recall_selected:.2%}\")\n",
    "print(f\"F1-score:   {test_f1_selected:.2%}\")"
   ]
  },
  {
   "cell_type": "markdown",
   "id": "a6ebec36",
   "metadata": {},
   "source": [
    "# Plot Confusion Matrix"
   ]
  },
  {
   "cell_type": "code",
   "execution_count": 41,
   "id": "a1c8e9fb",
   "metadata": {},
   "outputs": [
    {
     "data": {
      "image/png": "[encoded data removed]",
      "text/plain": [
       "<Figure size 640x480 with 2 Axes>"
      ]
     },
     "metadata": {},
     "output_type": "display_data"
    },
    {
     "name": "stdout",
     "output_type": "stream",
     "text": [
      "              precision    recall  f1-score   support\n",
      "\n",
      "           0       0.97      0.79      0.87     12833\n",
      "           1       0.78      0.97      0.86      9711\n",
      "\n",
      "    accuracy                           0.87     22544\n",
      "   macro avg       0.87      0.88      0.87     22544\n",
      "weighted avg       0.89      0.87      0.87     22544\n",
      "\n"
     ]
    }
   ],
   "source": [
    "cm = confusion_matrix(y_test, y_test_pred_selected)\n",
    "\n",
    "# Display confusion matrix\n",
    "disp = ConfusionMatrixDisplay(confusion_matrix=cm, display_labels=['Normal', 'Attack'])\n",
    "disp.plot(cmap='YlGnBu', values_format='d')\n",
    "\n",
    "plt.title('Confusion Matrix - XGBoost (Selected Features)')\n",
    "plt.show()\n",
    "\n",
    "print(classification_report(y_test, y_test_pred_selected))"
   ]
  },
  {
   "cell_type": "markdown",
   "id": "24633b86",
   "metadata": {},
   "source": [
    "# Compute Inference Time per Sample"
   ]
  },
  {
   "cell_type": "code",
   "execution_count": 45,
   "id": "9885a8ea",
   "metadata": {},
   "outputs": [],
   "source": [
    "start_pred_time = time.time()\n",
    "y_test_pred = xgb_selected_model.predict(X_test_selected)\n",
    "end_pred_time = time.time()\n",
    "\n",
    "inference_time = (end_pred_time - start_pred_time) / len(X_test)  # Time per sample\n"
   ]
  },
  {
   "cell_type": "markdown",
   "id": "279d64f0",
   "metadata": {},
   "source": [
    "# Display Computational Overhead Report"
   ]
  },
  {
   "cell_type": "code",
   "execution_count": 46,
   "id": "8cc6ff6f",
   "metadata": {},
   "outputs": [
    {
     "name": "stdout",
     "output_type": "stream",
     "text": [
      "\n",
      "🚀 **Computational Overhead Report** 🚀\n",
      "⏳ **Execution Time:** 36.2873 seconds\n",
      "🔥 **CPU Usage Change:** 7.70%\n",
      "💾 **Disk I/O Usage:** 38.39 MB\n",
      "📊 **Peak Memory Usage:** -1.96 MB\n",
      "⚡ **Inference Time per Sample:** 0.000001 seconds\n"
     ]
    }
   ],
   "source": [
    "print(\"\\n🚀 **Computational Overhead Report** 🚀\")\n",
    "print(f\"⏳ **Execution Time:** {execution_time:.4f} seconds\")\n",
    "print(f\"🔥 **CPU Usage Change:** {cpu_usage_change:.2f}%\")\n",
    "print(f\"💾 **Disk I/O Usage:** {disk_io_used:.2f} MB\")\n",
    "print(f\"📊 **Peak Memory Usage:** {memory_used:.2f} MB\")\n",
    "print(f\"⚡ **Inference Time per Sample:** {inference_time:.6f} seconds\")"
   ]
  },
  {
   "cell_type": "markdown",
   "id": "275c2797",
   "metadata": {},
   "source": [
    "# Scalability Test (Training Time vs. Dataset Size)"
   ]
  },
  {
   "cell_type": "code",
   "execution_count": 47,
   "id": "d74a91a4",
   "metadata": {},
   "outputs": [
    {
     "ename": "NameError",
     "evalue": "name 'y_train_selected' is not defined",
     "output_type": "error",
     "traceback": [
      "\u001b[0;31m---------------------------------------------------------------------------\u001b[0m",
      "\u001b[0;31mNameError\u001b[0m                                 Traceback (most recent call last)",
      "Cell \u001b[0;32mIn[47], line 5\u001b[0m\n\u001b[1;32m      2\u001b[0m train_times \u001b[38;5;241m=\u001b[39m []\n\u001b[1;32m      4\u001b[0m \u001b[38;5;28;01mfor\u001b[39;00m size \u001b[38;5;129;01min\u001b[39;00m sizes:\n\u001b[0;32m----> 5\u001b[0m     X_sample, y_sample \u001b[38;5;241m=\u001b[39m X_train_selected[:size], y_train_selected[:size]\n\u001b[1;32m      6\u001b[0m     start_time \u001b[38;5;241m=\u001b[39m time\u001b[38;5;241m.\u001b[39mtime()\n\u001b[1;32m      7\u001b[0m     model \u001b[38;5;241m=\u001b[39m XGBClassifier(max_depth\u001b[38;5;241m=\u001b[39m\u001b[38;5;241m3\u001b[39m, n_estimators\u001b[38;5;241m=\u001b[39m\u001b[38;5;241m100\u001b[39m, random_state\u001b[38;5;241m=\u001b[39m\u001b[38;5;241m42\u001b[39m)\n",
      "\u001b[0;31mNameError\u001b[0m: name 'y_train_selected' is not defined"
     ]
    }
   ],
   "source": [
    "sizes = [10_000, 50_000, 100_000, len(X_train_selected)]\n",
    "train_times = []\n",
    "\n",
    "for size in sizes:\n",
    "    X_sample, y_sample = X_train_selected[:size], y_train[:size]\n",
    "    start_time = time.time()\n",
    "    model = XGBClassifier(max_depth=3, n_estimators=100, random_state=42)\n",
    "    model.fit(X_sample, y_sample)\n",
    "    train_times.append(time.time() - start_time)\n",
    "\n",
    "# Plot execution time\n",
    "plt.figure(figsize=(8, 5))\n",
    "plt.plot(sizes, train_times, marker='o', linestyle='-', color='b')\n",
    "plt.xlabel(\"Dataset Size\")\n",
    "plt.ylabel(\"Training Time (seconds)\")\n",
    "plt.title(\"Scalability: XGBoost Training Time vs Dataset Size\")\n",
    "plt.grid()\n",
    "plt.show()"
   ]
  },
  {
   "cell_type": "code",
   "execution_count": 98,
   "id": "00aac558",
   "metadata": {
    "scrolled": false
   },
   "outputs": [
    {
     "name": "stdout",
     "output_type": "stream",
     "text": [
      "XGBoost model saved to: ../../3_Post-Modeling-Phase/Trained_ML_models/Models-NSL-KDD/NSL-KDD_XGBoost.joblib\n"
     ]
    }
   ],
   "source": [
    "# Save the trained model to a specific folder\n",
    "model_folder = \"../../3_Post-Modeling-Phase/Trained_ML_models/Models-NSL-KDD/\"\n",
    "model_filename = \"NSL-KDD_XGBoost.joblib\"\n",
    "model_path = model_folder + model_filename\n",
    "\n",
    "joblib.dump(xgb_selected_model, model_path)\n",
    "print(f\"XGBoost model saved to: {model_path}\")"
   ]
  },
  {
   "cell_type": "code",
   "execution_count": null,
   "id": "79df5a0f",
   "metadata": {},
   "outputs": [],
   "source": []
  },
  {
   "cell_type": "code",
   "execution_count": null,
   "id": "d0743973",
   "metadata": {},
   "outputs": [],
   "source": []
  }
 ],
 "metadata": {
  "kernelspec": {
   "display_name": "Python 3 (ipykernel)",
   "language": "python",
   "name": "python3"
  },
  "language_info": {
   "codemirror_mode": {
    "name": "ipython",
    "version": 3
   },
   "file_extension": ".py",
   "mimetype": "text/x-python",
   "name": "python",
   "nbconvert_exporter": "python",
   "pygments_lexer": "ipython3",
   "version": "3.11.4"
  }
 },
 "nbformat": 4,
 "nbformat_minor": 5
}
