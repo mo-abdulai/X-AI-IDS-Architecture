{
 "cells": [
  {
   "cell_type": "markdown",
   "id": "1319802a",
   "metadata": {},
   "source": [
    "# RANDOM FOREST MODEL BUILD"
   ]
  },
  {
   "cell_type": "code",
   "execution_count": 19,
   "id": "be171361",
   "metadata": {},
   "outputs": [],
   "source": [
    "# Import Required Libraries\n",
    "import time\n",
    "import psutil  # For system performance tracking\n",
    "import joblib\n",
    "import pandas as pd\n",
    "import numpy as np\n",
    "import seaborn as sns\n",
    "import matplotlib.pyplot as plt\n",
    "\n",
    "from sklearn.ensemble import RandomForestClassifier\n",
    "from sklearn.metrics import accuracy_score, precision_score, recall_score, f1_score, confusion_matrix, classification_report\n",
    "from sklearn.model_selection import train_test_split\n"
   ]
  },
  {
   "cell_type": "markdown",
   "id": "9045b413",
   "metadata": {},
   "source": [
    "## Load Train and Test Datasets"
   ]
  },
  {
   "cell_type": "code",
   "execution_count": 20,
   "id": "187f5373",
   "metadata": {},
   "outputs": [],
   "source": [
    "#  Load NSL-KDD Dataset\n",
    "df_train = pd.read_csv('../../2_Modeling-Phase/train_and_test_datasets/NSL-KDD/train.csv')\n",
    "df_test = pd.read_csv('../../2_Modeling-Phase/train_and_test_datasets/NSL-KDD/test.csv')\n",
    "\n",
    "#  Separate Features & Target\n",
    "X_train = df_train.drop(['binary_attack'], axis=1)\n",
    "y_train = df_train['binary_attack']\n",
    "\n",
    "X_test = df_test.drop(['binary_attack'], axis=1)\n",
    "y_test = df_test['binary_attack']\n",
    "\n",
    "# Split Training Data for Validation\n",
    "X_train, X_val, y_train, y_val = train_test_split(X_train, y_train, test_size=0.2, random_state=42)"
   ]
  },
  {
   "cell_type": "markdown",
   "id": "0beeb839",
   "metadata": {},
   "source": [
    "# Track Computational Overhead (Before Training)"
   ]
  },
  {
   "cell_type": "code",
   "execution_count": 21,
   "id": "b947a9d0",
   "metadata": {},
   "outputs": [],
   "source": [
    "#  Measure Initial System Performance\n",
    "cpu_before = psutil.cpu_percent(interval=None)\n",
    "memory_before = psutil.virtual_memory().used / (1024 * 1024)  # Convert to MB\n",
    "disk_before = psutil.disk_io_counters().read_bytes / (1024 * 1024)  # Convert to MB\n",
    "\n",
    "# Start Timer for Training\n",
    "training_start_time = time.time()"
   ]
  },
  {
   "cell_type": "markdown",
   "id": "afa7a967",
   "metadata": {},
   "source": [
    "## Model Creation and Training"
   ]
  },
  {
   "cell_type": "code",
   "execution_count": 22,
   "id": "3195fcc5",
   "metadata": {},
   "outputs": [],
   "source": [
    "# Initialize and Train Random Forest Classifier\n",
    "rf_model = RandomForestClassifier(\n",
    "                n_estimators=200, \n",
    "                max_depth=20, \n",
    "                min_samples_split=5, \n",
    "                min_samples_leaf=2, \n",
    "            #     max_features='sqrt', \n",
    "                random_state=42)\n",
    "\n",
    "rf_model.fit(X_train, y_train)\n",
    "y_pred = rf_model.predict(X_test)\n",
    "\n",
    "# End Timer for Training\n",
    "training_end_time = time.time()\n",
    "execution_time = training_end_time - training_start_time"
   ]
  },
  {
   "cell_type": "markdown",
   "id": "d46ba796",
   "metadata": {},
   "source": [
    "# Evaluate Model Performance"
   ]
  },
  {
   "cell_type": "code",
   "execution_count": 23,
   "id": "20fbc429",
   "metadata": {},
   "outputs": [
    {
     "name": "stdout",
     "output_type": "stream",
     "text": [
      "\n",
      "🔍 **Model Performance Metrics:**\n",
      "✅ **Accuracy:** 82.59%\n",
      "✅ **Precision:** 72.09%\n",
      "✅ **Recall:** 97.24%\n",
      "✅ **F1-score:** 82.80%\n"
     ]
    }
   ],
   "source": [
    "#  Compute Performance Metrics\n",
    "accuracy = accuracy_score(y_test, y_pred)\n",
    "precision = precision_score(y_test, y_pred)\n",
    "recall = recall_score(y_test, y_pred)\n",
    "f1 = f1_score(y_test, y_pred)\n",
    "\n",
    "print(\"\\n🔍 **Model Performance Metrics:**\")\n",
    "print(f\"✅ **Accuracy:** {accuracy:.2%}\")\n",
    "print(f\"✅ **Precision:** {precision:.2%}\")\n",
    "print(f\"✅ **Recall:** {recall:.2%}\")\n",
    "print(f\"✅ **F1-score:** {f1:.2%}\")"
   ]
  },
  {
   "cell_type": "markdown",
   "id": "e73c7555",
   "metadata": {},
   "source": [
    "# Measure Computational Overhead (After Training)"
   ]
  },
  {
   "cell_type": "code",
   "execution_count": 24,
   "id": "2c19c193",
   "metadata": {},
   "outputs": [
    {
     "name": "stdout",
     "output_type": "stream",
     "text": [
      "\n",
      "🚀 **Computational Overhead Report** 🚀\n",
      "⏳ **Training Execution Time:** 13.3735 seconds\n",
      "🔥 **CPU Usage Change:** 2.60%\n",
      "💾 **Disk I/O Usage:** 2.75 MB\n",
      "📊 **Peak Memory Usage:** -9.44 MB\n"
     ]
    }
   ],
   "source": [
    "#  Track System Metrics AFTER Training\n",
    "cpu_after = psutil.cpu_percent(interval=None)\n",
    "memory_after = psutil.virtual_memory().used / (1024 * 1024)\n",
    "disk_after = psutil.disk_io_counters().read_bytes / (1024 * 1024)\n",
    "\n",
    "#  Compute Overhead Metrics\n",
    "cpu_usage_change = cpu_after - cpu_before\n",
    "memory_used = memory_after - memory_before\n",
    "disk_io_used = disk_after - disk_before\n",
    "\n",
    "print(\"\\n🚀 **Computational Overhead Report** 🚀\")\n",
    "print(f\"⏳ **Training Execution Time:** {execution_time:.4f} seconds\")\n",
    "print(f\"🔥 **CPU Usage Change:** {cpu_usage_change:.2f}%\")\n",
    "print(f\"💾 **Disk I/O Usage:** {disk_io_used:.2f} MB\")\n",
    "print(f\"📊 **Peak Memory Usage:** {memory_used:.2f} MB\")\n"
   ]
  },
  {
   "cell_type": "markdown",
   "id": "73b612be",
   "metadata": {},
   "source": [
    "# Extract Feature Importance (Gini Importance)"
   ]
  },
  {
   "cell_type": "code",
   "execution_count": 34,
   "id": "27aae3a6",
   "metadata": {},
   "outputs": [
    {
     "name": "stdout",
     "output_type": "stream",
     "text": [
      "Top 10 Important Features:\n",
      "                      Feature  Importance\n",
      "4                  src_bytes    0.176335\n",
      "5                  dst_bytes    0.113163\n",
      "28             same_srv_rate    0.081293\n",
      "41                     level    0.067184\n",
      "33    dst_host_same_srv_rate    0.064912\n",
      "29             diff_srv_rate    0.062584\n",
      "3                       flag    0.055071\n",
      "11                 logged_in    0.042574\n",
      "22                     count    0.037175\n",
      "1              protocol_type    0.033860\n",
      "32        dst_host_srv_count    0.030891\n",
      "34    dst_host_diff_srv_rate    0.026206\n",
      "24               serror_rate    0.025947\n",
      "38  dst_host_srv_serror_rate    0.025526\n"
     ]
    }
   ],
   "source": [
    "# Extract feature importance\n",
    "feature_importance = rf_model.feature_importances_\n",
    "\n",
    "# Convert to DataFrame\n",
    "importance_df = pd.DataFrame({'Feature': X_train.columns, 'Importance': feature_importance})\n",
    "\n",
    "# Sort by importance\n",
    "importance_df = importance_df.sort_values(by='Importance', ascending=False)\n",
    "\n",
    "# Display Top Features\n",
    "print(\"Top 10 Important Features:\\n\", importance_df.head(14))\n"
   ]
  },
  {
   "cell_type": "markdown",
   "id": "f893de09",
   "metadata": {},
   "source": [
    "# Visualizing Feature Importance"
   ]
  },
  {
   "cell_type": "code",
   "execution_count": 35,
   "id": "c10a8924",
   "metadata": {},
   "outputs": [
    {
     "data": {
      "image/png": "[encoded data removed]",
      "text/plain": [
       "<Figure size 1200x600 with 1 Axes>"
      ]
     },
     "metadata": {},
     "output_type": "display_data"
    }
   ],
   "source": [
    "# Plot the top 10 important features\n",
    "plt.figure(figsize=(12, 6))\n",
    "sns.barplot(x=importance_df['Importance'][:14], y=importance_df['Feature'][:14])\n",
    "plt.xlabel('Importance')\n",
    "plt.ylabel('Feature')\n",
    "plt.title('Top 10 Important Features (Gini Importance) - Random Forest')\n",
    "plt.show()"
   ]
  },
  {
   "cell_type": "markdown",
   "id": "7c28a75c",
   "metadata": {},
   "source": [
    "# Select Top Features and Retrain the Model"
   ]
  },
  {
   "cell_type": "code",
   "execution_count": 36,
   "id": "6b877701",
   "metadata": {},
   "outputs": [],
   "source": [
    "# Select top 10 important features\n",
    "top_features = importance_df['Feature'][:14].values\n",
    "\n",
    "# Reduce dataset to selected features\n",
    "X_train_selected = X_train[top_features]\n",
    "X_test_selected = X_test[top_features]\n"
   ]
  },
  {
   "cell_type": "markdown",
   "id": "b664af7c",
   "metadata": {},
   "source": [
    "# Retrain Random Forest on Selected Features"
   ]
  },
  {
   "cell_type": "code",
   "execution_count": 37,
   "id": "78f554b7",
   "metadata": {},
   "outputs": [
    {
     "data": {
      "text/html": [
       "<style>#sk-container-id-2 {color: black;background-color: white;}#sk-container-id-2 pre{padding: 0;}#sk-container-id-2 div.sk-toggleable {background-color: white;}#sk-container-id-2 label.sk-toggleable__label {cursor: pointer;display: block;width: 100%;margin-bottom: 0;padding: 0.3em;box-sizing: border-box;text-align: center;}#sk-container-id-2 label.sk-toggleable__label-arrow:before {content: \"▸\";float: left;margin-right: 0.25em;color: #696969;}#sk-container-id-2 label.sk-toggleable__label-arrow:hover:before {color: black;}#sk-container-id-2 div.sk-estimator:hover label.sk-toggleable__label-arrow:before {color: black;}#sk-container-id-2 div.sk-toggleable__content {max-height: 0;max-width: 0;overflow: hidden;text-align: left;background-color: #f0f8ff;}#sk-container-id-2 div.sk-toggleable__content pre {margin: 0.2em;color: black;border-radius: 0.25em;background-color: #f0f8ff;}#sk-container-id-2 input.sk-toggleable__control:checked~div.sk-toggleable__content {max-height: 200px;max-width: 100%;overflow: auto;}#sk-container-id-2 input.sk-toggleable__control:checked~label.sk-toggleable__label-arrow:before {content: \"▾\";}#sk-container-id-2 div.sk-estimator input.sk-toggleable__control:checked~label.sk-toggleable__label {background-color: #d4ebff;}#sk-container-id-2 div.sk-label input.sk-toggleable__control:checked~label.sk-toggleable__label {background-color: #d4ebff;}#sk-container-id-2 input.sk-hidden--visually {border: 0;clip: rect(1px 1px 1px 1px);clip: rect(1px, 1px, 1px, 1px);height: 1px;margin: -1px;overflow: hidden;padding: 0;position: absolute;width: 1px;}#sk-container-id-2 div.sk-estimator {font-family: monospace;background-color: #f0f8ff;border: 1px dotted black;border-radius: 0.25em;box-sizing: border-box;margin-bottom: 0.5em;}#sk-container-id-2 div.sk-estimator:hover {background-color: #d4ebff;}#sk-container-id-2 div.sk-parallel-item::after {content: \"\";width: 100%;border-bottom: 1px solid gray;flex-grow: 1;}#sk-container-id-2 div.sk-label:hover label.sk-toggleable__label {background-color: #d4ebff;}#sk-container-id-2 div.sk-serial::before {content: \"\";position: absolute;border-left: 1px solid gray;box-sizing: border-box;top: 0;bottom: 0;left: 50%;z-index: 0;}#sk-container-id-2 div.sk-serial {display: flex;flex-direction: column;align-items: center;background-color: white;padding-right: 0.2em;padding-left: 0.2em;position: relative;}#sk-container-id-2 div.sk-item {position: relative;z-index: 1;}#sk-container-id-2 div.sk-parallel {display: flex;align-items: stretch;justify-content: center;background-color: white;position: relative;}#sk-container-id-2 div.sk-item::before, #sk-container-id-2 div.sk-parallel-item::before {content: \"\";position: absolute;border-left: 1px solid gray;box-sizing: border-box;top: 0;bottom: 0;left: 50%;z-index: -1;}#sk-container-id-2 div.sk-parallel-item {display: flex;flex-direction: column;z-index: 1;position: relative;background-color: white;}#sk-container-id-2 div.sk-parallel-item:first-child::after {align-self: flex-end;width: 50%;}#sk-container-id-2 div.sk-parallel-item:last-child::after {align-self: flex-start;width: 50%;}#sk-container-id-2 div.sk-parallel-item:only-child::after {width: 0;}#sk-container-id-2 div.sk-dashed-wrapped {border: 1px dashed gray;margin: 0 0.4em 0.5em 0.4em;box-sizing: border-box;padding-bottom: 0.4em;background-color: white;}#sk-container-id-2 div.sk-label label {font-family: monospace;font-weight: bold;display: inline-block;line-height: 1.2em;}#sk-container-id-2 div.sk-label-container {text-align: center;}#sk-container-id-2 div.sk-container {/* jupyter's `normalize.less` sets `[hidden] { display: none; }` but bootstrap.min.css set `[hidden] { display: none !important; }` so we also need the `!important` here to be able to override the default hidden behavior on the sphinx rendered scikit-learn.org. See: https://github.com/scikit-learn/scikit-learn/issues/21755 */display: inline-block !important;position: relative;}#sk-container-id-2 div.sk-text-repr-fallback {display: none;}</style><div id=\"sk-container-id-2\" class=\"sk-top-container\"><div class=\"sk-text-repr-fallback\"><pre>RandomForestClassifier(max_depth=30, min_samples_leaf=10, min_samples_split=15,\n",
       "                       n_estimators=300, random_state=42)</pre><b>In a Jupyter environment, please rerun this cell to show the HTML representation or trust the notebook. <br />On GitHub, the HTML representation is unable to render, please try loading this page with nbviewer.org.</b></div><div class=\"sk-container\" hidden><div class=\"sk-item\"><div class=\"sk-estimator sk-toggleable\"><input class=\"sk-toggleable__control sk-hidden--visually\" id=\"sk-estimator-id-2\" type=\"checkbox\" checked><label for=\"sk-estimator-id-2\" class=\"sk-toggleable__label sk-toggleable__label-arrow\">RandomForestClassifier</label><div class=\"sk-toggleable__content\"><pre>RandomForestClassifier(max_depth=30, min_samples_leaf=10, min_samples_split=15,\n",
       "                       n_estimators=300, random_state=42)</pre></div></div></div></div></div>"
      ],
      "text/plain": [
       "RandomForestClassifier(max_depth=30, min_samples_leaf=10, min_samples_split=15,\n",
       "                       n_estimators=300, random_state=42)"
      ]
     },
     "execution_count": 37,
     "metadata": {},
     "output_type": "execute_result"
    }
   ],
   "source": [
    "# Train a new Random Forest using only selected features\n",
    "rf_selected_model = RandomForestClassifier(\n",
    "    n_estimators=300,\n",
    "    max_depth=30,\n",
    "    min_samples_split=15,\n",
    "    min_samples_leaf=10,\n",
    "    random_state=42\n",
    ")\n",
    "\n",
    "rf_selected_model.fit(X_train_selected, y_train)\n"
   ]
  },
  {
   "cell_type": "markdown",
   "id": "c14afe0b",
   "metadata": {},
   "source": [
    "# Measure Inference Overhead"
   ]
  },
  {
   "cell_type": "code",
   "execution_count": 38,
   "id": "8a490ddf",
   "metadata": {},
   "outputs": [
    {
     "name": "stdout",
     "output_type": "stream",
     "text": [
      "🕒 **Total Inference Time:** 0.2670 seconds\n",
      "⚡ **Inference Time per Sample:** 0.000012 seconds\n"
     ]
    }
   ],
   "source": [
    "#  Start Timer for Inference\n",
    "inference_start_time = time.time()\n",
    "\n",
    "#  Make Predictions on Test Data\n",
    "y_pred = rf_model.predict(X_test)\n",
    "\n",
    "#  End Timer for Inference\n",
    "inference_end_time = time.time()\n",
    "total_inference_time = inference_end_time - inference_start_time\n",
    "\n",
    "#  Compute Inference Time per Sample\n",
    "inference_time = total_inference_time / len(X_test)\n",
    "\n",
    "print(f\"🕒 **Total Inference Time:** {total_inference_time:.4f} seconds\")\n",
    "print(f\"⚡ **Inference Time per Sample:** {inference_time:.6f} seconds\")\n"
   ]
  },
  {
   "cell_type": "markdown",
   "id": "5f8ce433",
   "metadata": {},
   "source": [
    "# Evaluate Model Performance"
   ]
  },
  {
   "cell_type": "code",
   "execution_count": 39,
   "id": "1a5c5141",
   "metadata": {},
   "outputs": [
    {
     "name": "stdout",
     "output_type": "stream",
     "text": [
      "\n",
      "Test Metrics (Using Selected Features):\n",
      "Accuracy:   85.43%\n",
      "Precision:  75.91%\n",
      "Recall:     96.93%\n",
      "F1-score:   85.14%\n"
     ]
    }
   ],
   "source": [
    "# Predict on test set\n",
    "y_test_pred_selected = rf_selected_model.predict(X_test_selected)\n",
    "\n",
    "# Compute accuracy\n",
    "test_accuracy_selected = accuracy_score(y_test, y_test_pred_selected)\n",
    "test_precision_selected = precision_score(y_test, y_test_pred_selected)\n",
    "test_recall_selected = recall_score(y_test, y_test_pred_selected)\n",
    "test_f1_selected = f1_score(y_test, y_test_pred_selected)\n",
    "\n",
    "print(\"\\nTest Metrics (Using Selected Features):\")\n",
    "print(f\"Accuracy:   {test_accuracy_selected:.2%}\")\n",
    "print(f\"Precision:  {test_precision_selected:.2%}\")\n",
    "print(f\"Recall:     {test_recall_selected:.2%}\")\n",
    "print(f\"F1-score:   {test_f1_selected:.2%}\")\n"
   ]
  },
  {
   "cell_type": "code",
   "execution_count": null,
   "id": "1e4e2743",
   "metadata": {},
   "outputs": [],
   "source": []
  },
  {
   "cell_type": "markdown",
   "id": "a8fc88e3",
   "metadata": {},
   "source": [
    "# Plot Confusion Matrix"
   ]
  },
  {
   "cell_type": "code",
   "execution_count": 40,
   "id": "a1780f34",
   "metadata": {},
   "outputs": [
    {
     "data": {
      "image/png": "[encoded data removed]",
      "text/plain": [
       "<Figure size 640x480 with 2 Axes>"
      ]
     },
     "metadata": {},
     "output_type": "display_data"
    },
    {
     "name": "stdout",
     "output_type": "stream",
     "text": [
      "              precision    recall  f1-score   support\n",
      "\n",
      "           0       0.97      0.77      0.86     12833\n",
      "           1       0.76      0.97      0.85      9711\n",
      "\n",
      "    accuracy                           0.85     22544\n",
      "   macro avg       0.86      0.87      0.85     22544\n",
      "weighted avg       0.88      0.85      0.85     22544\n",
      "\n"
     ]
    }
   ],
   "source": [
    "from sklearn.metrics import ConfusionMatrixDisplay, confusion_matrix\n",
    "\n",
    "cm = confusion_matrix(y_test, y_test_pred_selected).astype(int)\n",
    "\n",
    "disp = ConfusionMatrixDisplay(confusion_matrix=cm, display_labels=['Normal', 'Malicious'])\n",
    "\n",
    "disp.plot(cmap='YlGnBu', values_format='d')\n",
    "\n",
    "plt.title('Confusion Matrix')\n",
    "plt.show()\n",
    "\n",
    "\n",
    "# Classification report\n",
    "print(classification_report(y_test, y_test_pred_selected))"
   ]
  },
  {
   "cell_type": "code",
   "execution_count": null,
   "id": "1f194b68",
   "metadata": {},
   "outputs": [],
   "source": []
  },
  {
   "cell_type": "code",
   "execution_count": null,
   "id": "038551a0",
   "metadata": {},
   "outputs": [],
   "source": []
  },
  {
   "cell_type": "code",
   "execution_count": 41,
   "id": "56a7f556",
   "metadata": {},
   "outputs": [
    {
     "name": "stdout",
     "output_type": "stream",
     "text": [
      "\n",
      "🚀 **Computational Overhead Report** 🚀\n",
      "⏳ **Execution Time:** 13.3735 seconds\n",
      "🔥 **CPU Usage Change:** 2.60%\n",
      "💾 **Disk I/O Usage:** 2.75 MB\n",
      "📊 **Peak Memory Usage:** -9.44 MB\n",
      "🌳 **Random Forest Complexity:**\n",
      "🌲 **Number of Trees:** 300\n"
     ]
    }
   ],
   "source": [
    "num_trees = len(rf_selected_model.estimators_)\n",
    "\n",
    "print(\"\\n🚀 **Computational Overhead Report** 🚀\")\n",
    "print(f\"⏳ **Execution Time:** {execution_time:.4f} seconds\")\n",
    "print(f\"🔥 **CPU Usage Change:** {cpu_usage_change:.2f}%\")\n",
    "print(f\"💾 **Disk I/O Usage:** {disk_io_used:.2f} MB\")\n",
    "print(f\"📊 **Peak Memory Usage:** {memory_used:.2f} MB\")\n",
    "print(f\"🌳 **Random Forest Complexity:**\")\n",
    "print(f\"🌲 **Number of Trees:** {num_trees}\")\n"
   ]
  },
  {
   "cell_type": "markdown",
   "id": "3498a2e6",
   "metadata": {},
   "source": [
    "# Save the Trained Model"
   ]
  },
  {
   "cell_type": "code",
   "execution_count": 42,
   "id": "aad8669c",
   "metadata": {},
   "outputs": [
    {
     "name": "stdout",
     "output_type": "stream",
     "text": [
      "Random Forest model saved to: ../../3_Post-Modeling-Phase/Trained_ML_models/Models-NSL-KDD/NSL-KDD_RandomForest.joblib\n"
     ]
    }
   ],
   "source": [
    "# Save the trained model\n",
    "model_folder = \"../../3_Post-Modeling-Phase/Trained_ML_models/Models-NSL-KDD/\"\n",
    "model_filename = \"NSL-KDD_RandomForest.joblib\"\n",
    "model_path = model_folder + model_filename\n",
    "\n",
    "\n",
    "joblib.dump(rf_selected_model, model_path)\n",
    "print(f\"Random Forest model saved to: {model_path}\")"
   ]
  },
  {
   "cell_type": "code",
   "execution_count": null,
   "id": "6b24d112",
   "metadata": {},
   "outputs": [],
   "source": []
  }
 ],
 "metadata": {
  "kernelspec": {
   "display_name": "Python 3 (ipykernel)",
   "language": "python",
   "name": "python3"
  },
  "language_info": {
   "codemirror_mode": {
    "name": "ipython",
    "version": 3
   },
   "file_extension": ".py",
   "mimetype": "text/x-python",
   "name": "python",
   "nbconvert_exporter": "python",
   "pygments_lexer": "ipython3",
   "version": "3.11.4"
  }
 },
 "nbformat": 4,
 "nbformat_minor": 5
}
