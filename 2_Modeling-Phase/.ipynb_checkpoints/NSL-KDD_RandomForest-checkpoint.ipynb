{
 "cells": [
  {
   "cell_type": "markdown",
   "id": "ff31d92c",
   "metadata": {},
   "source": [
    "# RANDOM FOREST MODEL BUILD"
   ]
  },
  {
   "cell_type": "code",
   "execution_count": 1,
   "id": "48ff9046",
   "metadata": {},
   "outputs": [
    {
     "name": "stderr",
     "output_type": "stream",
     "text": [
      "Matplotlib is building the font cache; this may take a moment.\n"
     ]
    }
   ],
   "source": [
    "import pandas as pd\n",
    "import joblib\n",
    "import matplotlib.pyplot as plt\n",
    "import numpy as np\n",
    "import seaborn as sns\n",
    "from sklearn.ensemble import RandomForestClassifier\n",
    "from sklearn.metrics import confusion_matrix, accuracy_score, precision_score, recall_score, f1_score, classification_report, roc_auc_score\n",
    "from sklearn.model_selection import train_test_split"
   ]
  },
  {
   "cell_type": "markdown",
   "id": "59044c4c",
   "metadata": {},
   "source": [
    "## Load Train and Test Datasets"
   ]
  },
  {
   "cell_type": "code",
   "execution_count": 2,
   "id": "906b5d9a",
   "metadata": {},
   "outputs": [],
   "source": [
    "df_train = pd.read_csv('../2_Modeling-Phase/train_and_test_datasets/train_XGB.csv')\n",
    "df_test = pd.read_csv('../2_Modeling-Phase/train_and_test_datasets/test_XGB.csv')"
   ]
  },
  {
   "cell_type": "code",
   "execution_count": 3,
   "id": "2faf84fe",
   "metadata": {},
   "outputs": [],
   "source": [
    "X_train = df_train.drop(['binary_attack'], axis=1)  # Features\n",
    "y_train = df_train['binary_attack']  # Target variable"
   ]
  },
  {
   "cell_type": "code",
   "execution_count": 4,
   "id": "99a60a7b",
   "metadata": {},
   "outputs": [],
   "source": [
    "X_test = df_test.drop(['binary_attack'], axis=1)  # Features\n",
    "y_test = df_test['binary_attack']  # Target variable"
   ]
  },
  {
   "cell_type": "code",
   "execution_count": 5,
   "id": "b33e2606",
   "metadata": {},
   "outputs": [],
   "source": [
    "X_train, X_train_test, y_train, y_train_test = train_test_split(X_train, y_train, test_size=0.2, random_state=42)"
   ]
  },
  {
   "cell_type": "markdown",
   "id": "82b4dd78",
   "metadata": {},
   "source": [
    "## Model Creation and Training"
   ]
  },
  {
   "cell_type": "code",
   "execution_count": 7,
   "id": "35da3058",
   "metadata": {},
   "outputs": [
    {
     "data": {
      "text/html": [
       "<style>#sk-container-id-1 {color: black;}#sk-container-id-1 pre{padding: 0;}#sk-container-id-1 div.sk-toggleable {background-color: white;}#sk-container-id-1 label.sk-toggleable__label {cursor: pointer;display: block;width: 100%;margin-bottom: 0;padding: 0.3em;box-sizing: border-box;text-align: center;}#sk-container-id-1 label.sk-toggleable__label-arrow:before {content: \"▸\";float: left;margin-right: 0.25em;color: #696969;}#sk-container-id-1 label.sk-toggleable__label-arrow:hover:before {color: black;}#sk-container-id-1 div.sk-estimator:hover label.sk-toggleable__label-arrow:before {color: black;}#sk-container-id-1 div.sk-toggleable__content {max-height: 0;max-width: 0;overflow: hidden;text-align: left;background-color: #f0f8ff;}#sk-container-id-1 div.sk-toggleable__content pre {margin: 0.2em;color: black;border-radius: 0.25em;background-color: #f0f8ff;}#sk-container-id-1 input.sk-toggleable__control:checked~div.sk-toggleable__content {max-height: 200px;max-width: 100%;overflow: auto;}#sk-container-id-1 input.sk-toggleable__control:checked~label.sk-toggleable__label-arrow:before {content: \"▾\";}#sk-container-id-1 div.sk-estimator input.sk-toggleable__control:checked~label.sk-toggleable__label {background-color: #d4ebff;}#sk-container-id-1 div.sk-label input.sk-toggleable__control:checked~label.sk-toggleable__label {background-color: #d4ebff;}#sk-container-id-1 input.sk-hidden--visually {border: 0;clip: rect(1px 1px 1px 1px);clip: rect(1px, 1px, 1px, 1px);height: 1px;margin: -1px;overflow: hidden;padding: 0;position: absolute;width: 1px;}#sk-container-id-1 div.sk-estimator {font-family: monospace;background-color: #f0f8ff;border: 1px dotted black;border-radius: 0.25em;box-sizing: border-box;margin-bottom: 0.5em;}#sk-container-id-1 div.sk-estimator:hover {background-color: #d4ebff;}#sk-container-id-1 div.sk-parallel-item::after {content: \"\";width: 100%;border-bottom: 1px solid gray;flex-grow: 1;}#sk-container-id-1 div.sk-label:hover label.sk-toggleable__label {background-color: #d4ebff;}#sk-container-id-1 div.sk-serial::before {content: \"\";position: absolute;border-left: 1px solid gray;box-sizing: border-box;top: 0;bottom: 0;left: 50%;z-index: 0;}#sk-container-id-1 div.sk-serial {display: flex;flex-direction: column;align-items: center;background-color: white;padding-right: 0.2em;padding-left: 0.2em;position: relative;}#sk-container-id-1 div.sk-item {position: relative;z-index: 1;}#sk-container-id-1 div.sk-parallel {display: flex;align-items: stretch;justify-content: center;background-color: white;position: relative;}#sk-container-id-1 div.sk-item::before, #sk-container-id-1 div.sk-parallel-item::before {content: \"\";position: absolute;border-left: 1px solid gray;box-sizing: border-box;top: 0;bottom: 0;left: 50%;z-index: -1;}#sk-container-id-1 div.sk-parallel-item {display: flex;flex-direction: column;z-index: 1;position: relative;background-color: white;}#sk-container-id-1 div.sk-parallel-item:first-child::after {align-self: flex-end;width: 50%;}#sk-container-id-1 div.sk-parallel-item:last-child::after {align-self: flex-start;width: 50%;}#sk-container-id-1 div.sk-parallel-item:only-child::after {width: 0;}#sk-container-id-1 div.sk-dashed-wrapped {border: 1px dashed gray;margin: 0 0.4em 0.5em 0.4em;box-sizing: border-box;padding-bottom: 0.4em;background-color: white;}#sk-container-id-1 div.sk-label label {font-family: monospace;font-weight: bold;display: inline-block;line-height: 1.2em;}#sk-container-id-1 div.sk-label-container {text-align: center;}#sk-container-id-1 div.sk-container {/* jupyter's `normalize.less` sets `[hidden] { display: none; }` but bootstrap.min.css set `[hidden] { display: none !important; }` so we also need the `!important` here to be able to override the default hidden behavior on the sphinx rendered scikit-learn.org. See: https://github.com/scikit-learn/scikit-learn/issues/21755 */display: inline-block !important;position: relative;}#sk-container-id-1 div.sk-text-repr-fallback {display: none;}</style><div id=\"sk-container-id-1\" class=\"sk-top-container\"><div class=\"sk-text-repr-fallback\"><pre>RandomForestClassifier(max_depth=10, n_estimators=500, n_jobs=-1,\n",
       "                       random_state=42)</pre><b>In a Jupyter environment, please rerun this cell to show the HTML representation or trust the notebook. <br />On GitHub, the HTML representation is unable to render, please try loading this page with nbviewer.org.</b></div><div class=\"sk-container\" hidden><div class=\"sk-item\"><div class=\"sk-estimator sk-toggleable\"><input class=\"sk-toggleable__control sk-hidden--visually\" id=\"sk-estimator-id-1\" type=\"checkbox\" checked><label for=\"sk-estimator-id-1\" class=\"sk-toggleable__label sk-toggleable__label-arrow\">RandomForestClassifier</label><div class=\"sk-toggleable__content\"><pre>RandomForestClassifier(max_depth=10, n_estimators=500, n_jobs=-1,\n",
       "                       random_state=42)</pre></div></div></div></div></div>"
      ],
      "text/plain": [
       "RandomForestClassifier(max_depth=10, n_estimators=500, n_jobs=-1,\n",
       "                       random_state=42)"
      ]
     },
     "execution_count": 7,
     "metadata": {},
     "output_type": "execute_result"
    }
   ],
   "source": [
    "# Initialize Random Forest Classifier\n",
    "rf_model = RandomForestClassifier(\n",
    "    n_estimators=500,  # Number of trees\n",
    "    max_depth=10,      # Maximum depth of each tree\n",
    "    random_state=42,   # Seed for reproducibility\n",
    "    n_jobs=-1          # Use all available CPU cores\n",
    ")\n",
    "\n",
    "rf_model.fit(X_train, y_train)"
   ]
  },
  {
   "cell_type": "code",
   "execution_count": 8,
   "id": "31837094",
   "metadata": {},
   "outputs": [
    {
     "name": "stdout",
     "output_type": "stream",
     "text": [
      "Random Forest model saved to: ../3_Post-Modeling-Phase/Models/NSL-KDD_RandomForest.joblib\n"
     ]
    }
   ],
   "source": [
    "# Save the trained model\n",
    "model_folder = \"../3_Post-Modeling-Phase/Models/\"\n",
    "model_filename = \"NSL-KDD_RandomForest.joblib\"\n",
    "model_path = model_folder + model_filename\n",
    "\n",
    "\n",
    "joblib.dump(rf_model, model_path)\n",
    "print(f\"Random Forest model saved to: {model_path}\")"
   ]
  },
  {
   "cell_type": "code",
   "execution_count": 9,
   "id": "31a5572d",
   "metadata": {},
   "outputs": [],
   "source": [
    "# ## Evaluation on Validation Set\n",
    "y_train_pred = rf_model.predict(X_train_test)"
   ]
  },
  {
   "cell_type": "markdown",
   "id": "c9499cf1",
   "metadata": {},
   "source": [
    "# Results"
   ]
  },
  {
   "cell_type": "markdown",
   "id": "d00876bd",
   "metadata": {},
   "source": [
    "## With Training"
   ]
  },
  {
   "cell_type": "code",
   "execution_count": 11,
   "id": "8c7e3072",
   "metadata": {},
   "outputs": [
    {
     "data": {
      "image/png": "[encoded data removed]",
      "text/plain": [
       "<Figure size 800x600 with 2 Axes>"
      ]
     },
     "metadata": {},
     "output_type": "display_data"
    }
   ],
   "source": [
    "# Compute confusion matrix\n",
    "cm = confusion_matrix(y_train_test, y_train_pred)\n",
    "\n",
    "plt.figure(figsize=(8, 6))\n",
    "sns.heatmap(cm, annot=True, fmt='d', cmap='Blues', \n",
    "            xticklabels=['Normal', 'Malicious'], \n",
    "            yticklabels=['Normal', 'Malicious'])\n",
    "plt.xlabel('Predicted')\n",
    "plt.ylabel('True')\n",
    "plt.title('Confusion Matrix (Validation Set)')\n",
    "plt.show()"
   ]
  },
  {
   "cell_type": "code",
   "execution_count": 12,
   "id": "e10576b5",
   "metadata": {},
   "outputs": [
    {
     "name": "stdout",
     "output_type": "stream",
     "text": [
      "Validation Metrics:\n",
      "Accuracy:   99.90%\n",
      "Precision:  99.96%\n",
      "Recall:     99.85%\n",
      "F1-score:   99.91%\n"
     ]
    }
   ],
   "source": [
    "# Validation Metrics\n",
    "accuracy = accuracy_score(y_train_test, y_train_pred)\n",
    "precision = precision_score(y_train_test, y_train_pred)\n",
    "recall = recall_score(y_train_test, y_train_pred)\n",
    "f1 = f1_score(y_train_test, y_train_pred)\n",
    "\n",
    "print(\"Validation Metrics:\")\n",
    "print(f\"Accuracy:   {accuracy:.2%}\")\n",
    "print(f\"Precision:  {precision:.2%}\")\n",
    "print(f\"Recall:     {recall:.2%}\")\n",
    "print(f\"F1-score:   {f1:.2%}\")"
   ]
  },
  {
   "cell_type": "markdown",
   "id": "4bb14aaa",
   "metadata": {},
   "source": [
    "## With Test Data"
   ]
  },
  {
   "cell_type": "code",
   "execution_count": 13,
   "id": "8e702ac1",
   "metadata": {},
   "outputs": [],
   "source": [
    "# ## Evaluation on Test Dataset\n",
    "y_test_pred = rf_model.predict(X_test)\n",
    "\n",
    "# Compute confusion matrix\n",
    "cm = confusion_matrix(y_test, y_test_pred)"
   ]
  },
  {
   "cell_type": "code",
   "execution_count": 14,
   "id": "bd30b3a4",
   "metadata": {},
   "outputs": [
    {
     "data": {
      "image/png": "[encoded data removed]",
      "text/plain": [
       "<Figure size 800x600 with 2 Axes>"
      ]
     },
     "metadata": {},
     "output_type": "display_data"
    }
   ],
   "source": [
    "plt.figure(figsize=(8, 6))\n",
    "sns.heatmap(cm, annot=True, fmt='d', cmap='Blues', \n",
    "            xticklabels=['Normal', 'Malicious'], \n",
    "            yticklabels=['Normal', 'Malicious'])\n",
    "plt.xlabel('Predicted')\n",
    "plt.ylabel('True')\n",
    "plt.title('Confusion Matrix (Test Set)')\n",
    "plt.show()"
   ]
  },
  {
   "cell_type": "code",
   "execution_count": 16,
   "id": "85131a42",
   "metadata": {},
   "outputs": [
    {
     "name": "stdout",
     "output_type": "stream",
     "text": [
      "Test Metrics:\n",
      "Accuracy:   81.46%\n",
      "Precision:  70.74%\n",
      "Recall:     97.15%\n",
      "F1-score:   81.87%\n"
     ]
    }
   ],
   "source": [
    "# Test Metrics\n",
    "accuracy = accuracy_score(y_test, y_test_pred)\n",
    "precision = precision_score(y_test, y_test_pred)\n",
    "recall = recall_score(y_test, y_test_pred)\n",
    "f1 = f1_score(y_test, y_test_pred)\n",
    "\n",
    "print(\"Test Metrics:\")\n",
    "print(f\"Accuracy:   {accuracy:.2%}\")\n",
    "print(f\"Precision:  {precision:.2%}\")\n",
    "print(f\"Recall:     {recall:.2%}\")\n",
    "print(f\"F1-score:   {f1:.2%}\")"
   ]
  },
  {
   "cell_type": "markdown",
   "id": "099353c3",
   "metadata": {},
   "source": [
    "## HYPERPARAMETER TUNING"
   ]
  },
  {
   "cell_type": "code",
   "execution_count": 18,
   "id": "81fdbcaa",
   "metadata": {},
   "outputs": [],
   "source": [
    "from sklearn.model_selection import train_test_split, RandomizedSearchCV\n",
    "from sklearn.ensemble import RandomForestClassifier\n",
    "from scipy.stats import randint"
   ]
  },
  {
   "cell_type": "code",
   "execution_count": 19,
   "id": "e24fc044",
   "metadata": {},
   "outputs": [],
   "source": [
    "param_distributions = {\n",
    "    'n_estimators': randint(100, 1000),\n",
    "    'max_depth': randint(3, 20),\n",
    "    'min_samples_split': randint(2, 20),\n",
    "    'min_samples_leaf': randint(1, 20),\n",
    "    'max_features': ['sqrt', 'log2', None]\n",
    "}"
   ]
  },
  {
   "cell_type": "code",
   "execution_count": 20,
   "id": "43d83075",
   "metadata": {},
   "outputs": [],
   "source": [
    "# Initialize RandomizedSearchCV\n",
    "random_search = RandomizedSearchCV(\n",
    "    estimator=RandomForestClassifier(random_state=42),\n",
    "    param_distributions=param_distributions,\n",
    "    n_iter=50,\n",
    "    scoring='f1',\n",
    "    cv=5,\n",
    "    verbose=1,\n",
    "    n_jobs=-1,\n",
    "    random_state=42\n",
    ")"
   ]
  },
  {
   "cell_type": "code",
   "execution_count": null,
   "id": "5fefe799",
   "metadata": {
    "scrolled": true
   },
   "outputs": [
    {
     "name": "stdout",
     "output_type": "stream",
     "text": [
      "Fitting 5 folds for each of 50 candidates, totalling 250 fits\n"
     ]
    }
   ],
   "source": [
    "# Fit RandomizedSearchCV\n",
    "random_search.fit(X_train, y_train)"
   ]
  },
  {
   "cell_type": "markdown",
   "id": "fc80efed",
   "metadata": {},
   "source": [
    "## FINAL MODEL"
   ]
  },
  {
   "cell_type": "code",
   "execution_count": null,
   "id": "eab1ab53",
   "metadata": {},
   "outputs": [],
   "source": [
    "# Initialize Random Forest Classifier\n",
    "rf_model = RandomForestClassifier(\n",
    "    n_estimators=500,  # Number of trees\n",
    "    max_depth=10,      # Maximum depth of each tree\n",
    "    random_state=42,   # Seed for reproducibility\n",
    "    n_jobs=-1          # Use all available CPU cores\n",
    ")\n",
    "\n",
    "rf_model.fit(X_train, y_train)"
   ]
  },
  {
   "cell_type": "markdown",
   "id": "de012398",
   "metadata": {},
   "source": [
    "# FEATURE IMPORTANCE"
   ]
  },
  {
   "cell_type": "code",
   "execution_count": null,
   "id": "1dd6222c",
   "metadata": {},
   "outputs": [],
   "source": [
    "\n",
    "\n",
    "feature_importances = pd.DataFrame({\n",
    "    'Feature': X_train.columns,\n",
    "    'Importance': rf_model.feature_importances_\n",
    "}).sort_values(by='Importance', ascending=False)\n",
    "\n",
    "plt.figure(figsize=(10, 6))\n",
    "sns.barplot(data=feature_importances.head(10), x='Importance', y='Feature', palette='viridis')\n",
    "plt.title('Top 10 Feature Importances (Random Forest)')\n",
    "plt.show()"
   ]
  },
  {
   "cell_type": "markdown",
   "id": "ac69afa5",
   "metadata": {},
   "source": [
    "# EVALUATION"
   ]
  },
  {
   "cell_type": "code",
   "execution_count": null,
   "id": "85cf574f",
   "metadata": {},
   "outputs": [],
   "source": [
    "# ## Save Evaluation Metrics Function\n",
    "def eval_metric(model, X_train, y_train, X_test, y_test):\n",
    "    y_train_pred = model.predict(X_train)\n",
    "    y_test_pred = model.predict(X_test)\n",
    "    \n",
    "    print(\"Test Set:\")\n",
    "    print(confusion_matrix(y_test, y_test_pred))\n",
    "    print(classification_report(y_test, y_test_pred))\n",
    "    print()\n",
    "    print(\"Train Set:\")\n",
    "    print(confusion_matrix(y_train, y_train_pred))\n",
    "    print(classification_report(y_train, y_train_pred))\n",
    "\n",
    "eval_metric(rf_model, X_train, y_train, X_test, y_test)"
   ]
  },
  {
   "cell_type": "code",
   "execution_count": null,
   "id": "7771ccef",
   "metadata": {},
   "outputs": [],
   "source": []
  }
 ],
 "metadata": {
  "kernelspec": {
   "display_name": "Python 3 (ipykernel)",
   "language": "python",
   "name": "python3"
  },
  "language_info": {
   "codemirror_mode": {
    "name": "ipython",
    "version": 3
   },
   "file_extension": ".py",
   "mimetype": "text/x-python",
   "name": "python",
   "nbconvert_exporter": "python",
   "pygments_lexer": "ipython3",
   "version": "3.11.4"
  }
 },
 "nbformat": 4,
 "nbformat_minor": 5
}
